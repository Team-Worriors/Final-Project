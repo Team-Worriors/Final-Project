{
 "cells": [
  {
   "cell_type": "code",
   "execution_count": 56,
   "metadata": {
    "collapsed": true
   },
   "outputs": [],
   "source": [
    "import pandas as pd\n",
    "import numpy as np"
   ]
  },
  {
   "cell_type": "code",
   "execution_count": 57,
   "outputs": [],
   "source": [
    "def enter_trade(n, prices_dataframe, Lambda):\n",
    "    # calculate alpha ratio\n",
    "    prices_dataframe['alpha'] = prices_dataframe['ko_Close'] / prices_dataframe['pep_Close']\n",
    "\n",
    "    # calculate z_score\n",
    "    def zscore(n):\n",
    "        df_mean = prices_dataframe['alpha'].rolling(n, center=False).mean().shift(1)\n",
    "        df_std = prices_dataframe['alpha'].rolling(n, center=False).std(ddof=1).shift(1)\n",
    "        z_score = (prices_dataframe['alpha'] - df_mean) / df_std\n",
    "        return z_score\n",
    "\n",
    "    z_score = zscore(n)\n",
    "    prices_dataframe['z_score'] = z_score\n",
    "\n",
    "    # determine entry status for Y(ko)\n",
    "    conditions = [\n",
    "        (prices_dataframe['z_score'] > Lambda),\n",
    "        (prices_dataframe['z_score'] <= Lambda) & (prices_dataframe['z_score'] >= -Lambda),\n",
    "        (prices_dataframe['z_score'] < -Lambda)\n",
    "    ]\n",
    "    values = ['sell', 'do not enter', 'buy']\n",
    "    prices_dataframe['action_y'] = np.select(conditions, values)\n",
    "    prices_dataframe['date'] = prices_dataframe['Date'].shift(-1)\n",
    "    prices_dataframe['price_y'] = prices_dataframe['ko_Open'].shift(-1)\n",
    "    prices_dataframe['amount_y'] = 100  #####default enter amount is 100\n",
    "    prices_dataframe['ticker_y'] = 'ko'\n",
    "\n",
    "    # determine entry status for X(pep)\n",
    "    conditions = [\n",
    "        (prices_dataframe['action_y'] == 'sell'),\n",
    "        (prices_dataframe['action_y'] == 'do not enter'),\n",
    "        (prices_dataframe['action_y'] == 'buy')\n",
    "    ]\n",
    "    values = ['buy', 'do not enter', 'sell']\n",
    "    prices_dataframe['action_x'] = np.select(conditions, values)\n",
    "    prices_dataframe['price_x'] = prices_dataframe['pep_Open'].shift(-1)\n",
    "    prices_dataframe['amount_x'] = prices_dataframe[\"price_y\"] * prices_dataframe['amount_y'] / prices_dataframe[\n",
    "        'price_x']\n",
    "    prices_dataframe['ticker_x'] = 'pep'\n",
    "\n",
    "    # create dataframe for Y(ko)\n",
    "    df1 = prices_dataframe[['date', 'ticker_y', 'price_y', 'amount_y', 'action_y']]\n",
    "    df_y = df1[(df1.action_y != '0') & (df1.action_y != 'do not enter')]\n",
    "    df_y.rename(columns={'ticker_y': 'ticker', 'price_y': 'price', 'amount_y': 'quantity', 'action_y': 'action'},\n",
    "                inplace=True)\n",
    "\n",
    "    # create dataframe for X(pep)\n",
    "    df2 = prices_dataframe[['date', 'ticker_x', 'price_x', 'amount_x', 'action_x']]\n",
    "    df_x = df2[(df2.action_x != '0') & (df2.action_x != 'do not enter')]\n",
    "    df_x.rename(columns={'ticker_x': 'ticker', 'price_x': 'price', 'amount_x': 'quantity', 'action_x': 'action'},\n",
    "                inplace=True)\n",
    "\n",
    "    # concat X and Y\n",
    "    frames = [df_y, df_x]\n",
    "    result = pd.concat(frames)\n",
    "    result['trip'] = 'entry'\n",
    "    result['status'] = 'FILLED'\n",
    "    result['date'] = pd.to_datetime(result['date'])\n",
    "    result.sort_values(by='date', inplace=True, ascending=True)\n",
    "    return result"
   ],
   "metadata": {
    "collapsed": false,
    "pycharm": {
     "name": "#%%\n"
    }
   }
  },
  {
   "cell_type": "code",
   "execution_count": 58,
   "outputs": [],
   "source": [
    "def exit_trade(n, prices_dataframe, entry_trade, rho, L, X):\n",
    "    # copy entry_trade 作为exit修改的基础\n",
    "\n",
    "    first_index = entry_trade.first_valid_index()\n",
    "    last_index = entry_trade.index[-1]\n",
    "\n",
    "    exit_order = entry_trade.copy(deep=True)\n",
    "\n",
    "    # 遍历 entry_trade 修改action和trip的状态\n",
    "    exit_order['trip'] = 'exit'\n",
    "\n",
    "    # change LMT price\n",
    "    price2 = [\n",
    "        (exit_order['action'] == 'sell'),\n",
    "        (exit_order['action'] == 'buy')\n",
    "    ]\n",
    "    # create a list of values we want to assign for each condition\n",
    "    price2_values = [exit_order['price'] * (1 + rho), exit_order['price'] * (1 - rho)]\n",
    "    # create a new column and use np.select to assign values to it using our lists as arguments\n",
    "    exit_order['price_exit'] = np.select(price2, price2_values)\n",
    "\n",
    "    # create a list of action2 to change action\n",
    "    action2 = [\n",
    "        (exit_order['action'] == 'sell'),\n",
    "        (exit_order['action'] == 'buy')\n",
    "    ]\n",
    "    # create a list of values we want to assign for each condition\n",
    "    action2_values = ['buy', 'sell']\n",
    "    # create a new column and use np.select to assign values to it using our lists as arguments\n",
    "    exit_order['action_exit'] = np.select(action2, action2_values)\n",
    "\n",
    "    del exit_order['action'], exit_order['price']\n",
    "    order = ['date', 'ticker', 'price_exit', 'quantity', 'action_exit', 'trip', 'status']\n",
    "    exit_order = exit_order[order]\n",
    "    exit_order.columns = ['date', 'ticker', 'price', 'quantity', 'action', 'trip', 'status']\n",
    "\n",
    "    # 判断status\n",
    "    exit_order['date_exit'] = ''\n",
    "    exit_order['status_exit'] = ''\n",
    "\n",
    "    for i in range(first_index, last_index + 1):\n",
    "        if i in exit_order.index:\n",
    "            if exit_order['ticker'][i].values[0] == 'ko' and exit_order['action'][i].values[0] == 'buy':\n",
    "                for j in range(i + 1, i + X + 1):  # x=60\n",
    "                    Loss = ((prices_dataframe['ko_Close'][j] - exit_order['price'][i].values[0]) /\n",
    "                            exit_order['price'][i].values[0]) * 100\n",
    "                    if Loss > L:  # L=20\n",
    "                        exit_order['status_exit'][i] = 'STOPLOSS'\n",
    "                        exit_order['date_exit'][i] = prices_dataframe['Date'][j + 1]\n",
    "                        break\n",
    "                    elif exit_order['price'][i].values[0] > prices_dataframe['ko_Close'][j]:\n",
    "                        exit_order['status_exit'][i] = 'FILLED'\n",
    "                        exit_order['date_exit'][i] = prices_dataframe['Date'][j + 1]\n",
    "                        break\n",
    "                else:\n",
    "                    if i + X+1 > last_index:\n",
    "                        exit_order['status_exit'][i] = 'OPEN'\n",
    "                        exit_order['date_exit'][i] = prices_dataframe['Date'][j + 1]\n",
    "                        break\n",
    "                    else:\n",
    "                        exit_order['status_exit'][i] = 'TIMEOUT'\n",
    "                        exit_order['date_exit'][i] = prices_dataframe['Date'][j + 1]\n",
    "                        break\n",
    "            elif exit_order['ticker'][i].values[0] == 'ko' and exit_order['action'][i].values[0] == 'sell':\n",
    "                for j in range(i + 1, i + X + 1):\n",
    "                    Loss = -((prices_dataframe['ko_Close'][j] - exit_order['price'][i].values[0]) /\n",
    "                             exit_order['price'][i].values[0]) * 100\n",
    "                    if Loss > L:  # L=20\n",
    "                        exit_order['status_exit'][i] = 'STOPLOSS'\n",
    "                        exit_order['date_exit'][i] = prices_dataframe['Date'][j + 1]\n",
    "                        break\n",
    "                    elif exit_order['price'][i].values[0] < prices_dataframe['ko_Close'][j]:\n",
    "                        exit_order['status_exit'][i] = 'FILLED'\n",
    "                        exit_order['date_exit'][i] = prices_dataframe['Date'][j + 1]\n",
    "                        break\n",
    "                    else:\n",
    "                        if i + X+1 > last_index:\n",
    "                            exit_order['status_exit'][i] = 'OPEN'\n",
    "                            exit_order['date_exit'][i] = prices_dataframe['Date'][j + 1]\n",
    "                            break\n",
    "                        else:\n",
    "                            exit_order['status_exit'][i] = 'TIMEOUT'\n",
    "                            exit_order['date_exit'][i] = prices_dataframe['Date'][j + 1]\n",
    "                            break\n",
    "            elif exit_order['ticker'][i].values[0] == 'pep' and exit_order['action'][i].values[0] == 'buy':\n",
    "                for j in range(i + 1, i + X + 1):\n",
    "                    Loss = ((prices_dataframe['pep_Close'][j] - exit_order['price'][i].values[0]) /\n",
    "                            exit_order['price'][i].values[0]) * 100\n",
    "                    if Loss > L:  # L=20\n",
    "                        exit_order['status_exit'][i] = 'STOPLOSS'\n",
    "                        exit_order['date_exit'][i] = prices_dataframe['Date'][j + 1]\n",
    "                        break\n",
    "                    elif exit_order['price'][i].values[0] > prices_dataframe['pep_Close'][j + 1]:\n",
    "                        exit_order['status_exit'][i] = 'FILLED'\n",
    "                        exit_order['date_exit'][i] = prices_dataframe['Date'][j + 1]\n",
    "                        break\n",
    "                    else:\n",
    "                        if i + X + 1 > last_index:\n",
    "                            exit_order['status_exit'][i] = 'OPEN'\n",
    "                            exit_order['date_exit'][i] = prices_dataframe['Date'][j + 1]\n",
    "                            break\n",
    "                        else:\n",
    "                            exit_order['status_exit'][i] = 'TIMEOUT'\n",
    "                            exit_order['date_exit'][i] = prices_dataframe['Date'][j + 1]\n",
    "                            break\n",
    "            else:\n",
    "                for j in range(i + 1, i + X + 1):\n",
    "                    Loss = -((prices_dataframe['pep_Close'][j] - exit_order['price'][i].values[0]) /\n",
    "                             exit_order['price'][i].values[0]) * 100\n",
    "                    if Loss > L:  # L=20\n",
    "                        exit_order['status_exit'][i] = 'STOPLOSS'\n",
    "                        exit_order['date_exit'][i] = prices_dataframe['Date'][j + 1]\n",
    "                        break\n",
    "                    elif exit_order['price'][i].values[0] < prices_dataframe['pep_Close'][j + 1]:\n",
    "                        exit_order['status_exit'][i] = 'FILLED'\n",
    "                        exit_order['date_exit'][i] = prices_dataframe['Date'][j + 1]\n",
    "                        break\n",
    "                    else:\n",
    "                        if i + X + 1 > last_index:\n",
    "                            exit_order['status_exit'][i] = 'OPEN'\n",
    "                            exit_order['date_exit'][i] = prices_dataframe['Date'][j + 1]\n",
    "                            break\n",
    "                        else:\n",
    "                            exit_order['status_exit'][i] = 'TIMEOUT'\n",
    "                            exit_order['date_exit'][i] = prices_dataframe['Date'][j + 1]\n",
    "                            break\n",
    "        else:\n",
    "            continue\n",
    "\n",
    "    # format the dataframe\n",
    "    del exit_order['date'], exit_order['status']\n",
    "    order = ['date_exit', 'ticker', 'price', 'quantity', 'action', 'trip', 'status_exit']\n",
    "    exit_order = exit_order[order]\n",
    "    exit_order.columns = ['date', 'ticker', 'price', 'quantity', 'action', 'trip', 'status']\n",
    "    exit_order['date'] = pd.to_datetime(exit_order['date'])\n",
    "\n",
    "    return exit_order\n",
    "    # concat entry_order and exit_order\n",
    "    # frames = [exit_order, entry_trade]\n",
    "    # result = pd.concat(frames)\n",
    "    # result['date'] = pd.to_datetime(result['date'])\n",
    "    # result.sort_values(by='date', inplace=True, ascending=True)\n",
    "    # return result"
   ],
   "metadata": {
    "collapsed": false,
    "pycharm": {
     "name": "#%%\n"
    }
   }
  },
  {
   "cell_type": "code",
   "execution_count": 59,
   "outputs": [
    {
     "name": "stderr",
     "output_type": "stream",
     "text": [
      "/var/folders/q5/8pth12v54gs74jcrx3l_hx540000gn/T/ipykernel_76649/2184084346.py:44: SettingWithCopyWarning: \n",
      "A value is trying to be set on a copy of a slice from a DataFrame\n",
      "\n",
      "See the caveats in the documentation: https://pandas.pydata.org/pandas-docs/stable/user_guide/indexing.html#returning-a-view-versus-a-copy\n",
      "  df_y.rename(columns={'ticker_y': 'ticker', 'price_y': 'price', 'amount_y': 'quantity', 'action_y': 'action'},\n",
      "/var/folders/q5/8pth12v54gs74jcrx3l_hx540000gn/T/ipykernel_76649/2184084346.py:50: SettingWithCopyWarning: \n",
      "A value is trying to be set on a copy of a slice from a DataFrame\n",
      "\n",
      "See the caveats in the documentation: https://pandas.pydata.org/pandas-docs/stable/user_guide/indexing.html#returning-a-view-versus-a-copy\n",
      "  df_x.rename(columns={'ticker_x': 'ticker', 'price_x': 'price', 'amount_x': 'quantity', 'action_x': 'action'},\n",
      "/var/folders/q5/8pth12v54gs74jcrx3l_hx540000gn/T/ipykernel_76649/1033909671.py:52: SettingWithCopyWarning: \n",
      "A value is trying to be set on a copy of a slice from a DataFrame\n",
      "\n",
      "See the caveats in the documentation: https://pandas.pydata.org/pandas-docs/stable/user_guide/indexing.html#returning-a-view-versus-a-copy\n",
      "  exit_order['status_exit'][i] = 'FILLED'\n",
      "/var/folders/q5/8pth12v54gs74jcrx3l_hx540000gn/T/ipykernel_76649/1033909671.py:53: SettingWithCopyWarning: \n",
      "A value is trying to be set on a copy of a slice from a DataFrame\n",
      "\n",
      "See the caveats in the documentation: https://pandas.pydata.org/pandas-docs/stable/user_guide/indexing.html#returning-a-view-versus-a-copy\n",
      "  exit_order['date_exit'][i] = prices_dataframe['Date'][j + 1]\n",
      "/var/folders/q5/8pth12v54gs74jcrx3l_hx540000gn/T/ipykernel_76649/1033909671.py:115: SettingWithCopyWarning: \n",
      "A value is trying to be set on a copy of a slice from a DataFrame\n",
      "\n",
      "See the caveats in the documentation: https://pandas.pydata.org/pandas-docs/stable/user_guide/indexing.html#returning-a-view-versus-a-copy\n",
      "  exit_order['status_exit'][i] = 'FILLED'\n",
      "/var/folders/q5/8pth12v54gs74jcrx3l_hx540000gn/T/ipykernel_76649/1033909671.py:116: SettingWithCopyWarning: \n",
      "A value is trying to be set on a copy of a slice from a DataFrame\n",
      "\n",
      "See the caveats in the documentation: https://pandas.pydata.org/pandas-docs/stable/user_guide/indexing.html#returning-a-view-versus-a-copy\n",
      "  exit_order['date_exit'][i] = prices_dataframe['Date'][j + 1]\n",
      "/var/folders/q5/8pth12v54gs74jcrx3l_hx540000gn/T/ipykernel_76649/1033909671.py:94: SettingWithCopyWarning: \n",
      "A value is trying to be set on a copy of a slice from a DataFrame\n",
      "\n",
      "See the caveats in the documentation: https://pandas.pydata.org/pandas-docs/stable/user_guide/indexing.html#returning-a-view-versus-a-copy\n",
      "  exit_order['status_exit'][i] = 'FILLED'\n",
      "/var/folders/q5/8pth12v54gs74jcrx3l_hx540000gn/T/ipykernel_76649/1033909671.py:95: SettingWithCopyWarning: \n",
      "A value is trying to be set on a copy of a slice from a DataFrame\n",
      "\n",
      "See the caveats in the documentation: https://pandas.pydata.org/pandas-docs/stable/user_guide/indexing.html#returning-a-view-versus-a-copy\n",
      "  exit_order['date_exit'][i] = prices_dataframe['Date'][j + 1]\n",
      "/var/folders/q5/8pth12v54gs74jcrx3l_hx540000gn/T/ipykernel_76649/1033909671.py:73: SettingWithCopyWarning: \n",
      "A value is trying to be set on a copy of a slice from a DataFrame\n",
      "\n",
      "See the caveats in the documentation: https://pandas.pydata.org/pandas-docs/stable/user_guide/indexing.html#returning-a-view-versus-a-copy\n",
      "  exit_order['status_exit'][i] = 'FILLED'\n",
      "/var/folders/q5/8pth12v54gs74jcrx3l_hx540000gn/T/ipykernel_76649/1033909671.py:74: SettingWithCopyWarning: \n",
      "A value is trying to be set on a copy of a slice from a DataFrame\n",
      "\n",
      "See the caveats in the documentation: https://pandas.pydata.org/pandas-docs/stable/user_guide/indexing.html#returning-a-view-versus-a-copy\n",
      "  exit_order['date_exit'][i] = prices_dataframe['Date'][j + 1]\n",
      "/var/folders/q5/8pth12v54gs74jcrx3l_hx540000gn/T/ipykernel_76649/1033909671.py:124: SettingWithCopyWarning: \n",
      "A value is trying to be set on a copy of a slice from a DataFrame\n",
      "\n",
      "See the caveats in the documentation: https://pandas.pydata.org/pandas-docs/stable/user_guide/indexing.html#returning-a-view-versus-a-copy\n",
      "  exit_order['status_exit'][i] = 'TIMEOUT'\n",
      "/var/folders/q5/8pth12v54gs74jcrx3l_hx540000gn/T/ipykernel_76649/1033909671.py:125: SettingWithCopyWarning: \n",
      "A value is trying to be set on a copy of a slice from a DataFrame\n",
      "\n",
      "See the caveats in the documentation: https://pandas.pydata.org/pandas-docs/stable/user_guide/indexing.html#returning-a-view-versus-a-copy\n",
      "  exit_order['date_exit'][i] = prices_dataframe['Date'][j + 1]\n",
      "/var/folders/q5/8pth12v54gs74jcrx3l_hx540000gn/T/ipykernel_76649/1033909671.py:103: SettingWithCopyWarning: \n",
      "A value is trying to be set on a copy of a slice from a DataFrame\n",
      "\n",
      "See the caveats in the documentation: https://pandas.pydata.org/pandas-docs/stable/user_guide/indexing.html#returning-a-view-versus-a-copy\n",
      "  exit_order['status_exit'][i] = 'TIMEOUT'\n",
      "/var/folders/q5/8pth12v54gs74jcrx3l_hx540000gn/T/ipykernel_76649/1033909671.py:104: SettingWithCopyWarning: \n",
      "A value is trying to be set on a copy of a slice from a DataFrame\n",
      "\n",
      "See the caveats in the documentation: https://pandas.pydata.org/pandas-docs/stable/user_guide/indexing.html#returning-a-view-versus-a-copy\n",
      "  exit_order['date_exit'][i] = prices_dataframe['Date'][j + 1]\n",
      "/var/folders/q5/8pth12v54gs74jcrx3l_hx540000gn/T/ipykernel_76649/1033909671.py:82: SettingWithCopyWarning: \n",
      "A value is trying to be set on a copy of a slice from a DataFrame\n",
      "\n",
      "See the caveats in the documentation: https://pandas.pydata.org/pandas-docs/stable/user_guide/indexing.html#returning-a-view-versus-a-copy\n",
      "  exit_order['status_exit'][i] = 'TIMEOUT'\n",
      "/var/folders/q5/8pth12v54gs74jcrx3l_hx540000gn/T/ipykernel_76649/1033909671.py:83: SettingWithCopyWarning: \n",
      "A value is trying to be set on a copy of a slice from a DataFrame\n",
      "\n",
      "See the caveats in the documentation: https://pandas.pydata.org/pandas-docs/stable/user_guide/indexing.html#returning-a-view-versus-a-copy\n",
      "  exit_order['date_exit'][i] = prices_dataframe['Date'][j + 1]\n",
      "/var/folders/q5/8pth12v54gs74jcrx3l_hx540000gn/T/ipykernel_76649/1033909671.py:120: SettingWithCopyWarning: \n",
      "A value is trying to be set on a copy of a slice from a DataFrame\n",
      "\n",
      "See the caveats in the documentation: https://pandas.pydata.org/pandas-docs/stable/user_guide/indexing.html#returning-a-view-versus-a-copy\n",
      "  exit_order['status_exit'][i] = 'OPEN'\n",
      "/var/folders/q5/8pth12v54gs74jcrx3l_hx540000gn/T/ipykernel_76649/1033909671.py:121: SettingWithCopyWarning: \n",
      "A value is trying to be set on a copy of a slice from a DataFrame\n",
      "\n",
      "See the caveats in the documentation: https://pandas.pydata.org/pandas-docs/stable/user_guide/indexing.html#returning-a-view-versus-a-copy\n",
      "  exit_order['date_exit'][i] = prices_dataframe['Date'][j + 1]\n"
     ]
    }
   ],
   "source": [
    "csv_file = \"worriors_data_raw.csv\"\n",
    "csv_data = pd.read_csv(csv_file, low_memory=False)  # 防止弹出警告\n",
    "csv_df = pd.DataFrame(csv_data)\n",
    "del csv_df['Unnamed: 9'], csv_df['Unnamed: 10'], csv_df['Unnamed: 11'], csv_df['Unnamed: 12']\n",
    "result = enter_trade(60, csv_df, 1)\n",
    "exit_result = exit_trade(60, csv_df, result, 0.02, 20, 60)"
   ],
   "metadata": {
    "collapsed": false,
    "pycharm": {
     "name": "#%%\n"
    }
   }
  },
  {
   "cell_type": "code",
   "execution_count": 60,
   "outputs": [
    {
     "data": {
      "text/plain": "           date ticker     price    quantity action  trip  status\n83   2017-05-05     ko   44.2884  100.000000    buy  exit  FILLED\n83   2017-05-05    pep  109.9266   38.709102   sell  exit  FILLED\n84   2017-05-08    pep  110.7792   38.738500   sell  exit  FILLED\n84   2017-05-08     ko   44.6658  100.000000    buy  exit  FILLED\n85   2017-05-09     ko   44.4618  100.000000    buy  exit  FILLED\n...         ...    ...       ...         ...    ...   ...     ...\n1309 2022-03-18     ko   60.6492  100.000000    buy  exit  FILLED\n1310 2022-03-21    pep  158.1524   37.365225   sell  exit  FILLED\n1310 2022-03-21     ko   61.5060  100.000000    buy  exit  FILLED\n1312 2022-03-23     ko   62.1486  100.000000    buy  exit  FILLED\n1312 2022-03-23    pep  159.5832   37.417097   sell  exit  FILLED\n\n[1358 rows x 7 columns]",
      "text/html": "<div>\n<style scoped>\n    .dataframe tbody tr th:only-of-type {\n        vertical-align: middle;\n    }\n\n    .dataframe tbody tr th {\n        vertical-align: top;\n    }\n\n    .dataframe thead th {\n        text-align: right;\n    }\n</style>\n<table border=\"1\" class=\"dataframe\">\n  <thead>\n    <tr style=\"text-align: right;\">\n      <th></th>\n      <th>date</th>\n      <th>ticker</th>\n      <th>price</th>\n      <th>quantity</th>\n      <th>action</th>\n      <th>trip</th>\n      <th>status</th>\n    </tr>\n  </thead>\n  <tbody>\n    <tr>\n      <th>83</th>\n      <td>2017-05-05</td>\n      <td>ko</td>\n      <td>44.2884</td>\n      <td>100.000000</td>\n      <td>buy</td>\n      <td>exit</td>\n      <td>FILLED</td>\n    </tr>\n    <tr>\n      <th>83</th>\n      <td>2017-05-05</td>\n      <td>pep</td>\n      <td>109.9266</td>\n      <td>38.709102</td>\n      <td>sell</td>\n      <td>exit</td>\n      <td>FILLED</td>\n    </tr>\n    <tr>\n      <th>84</th>\n      <td>2017-05-08</td>\n      <td>pep</td>\n      <td>110.7792</td>\n      <td>38.738500</td>\n      <td>sell</td>\n      <td>exit</td>\n      <td>FILLED</td>\n    </tr>\n    <tr>\n      <th>84</th>\n      <td>2017-05-08</td>\n      <td>ko</td>\n      <td>44.6658</td>\n      <td>100.000000</td>\n      <td>buy</td>\n      <td>exit</td>\n      <td>FILLED</td>\n    </tr>\n    <tr>\n      <th>85</th>\n      <td>2017-05-09</td>\n      <td>ko</td>\n      <td>44.4618</td>\n      <td>100.000000</td>\n      <td>buy</td>\n      <td>exit</td>\n      <td>FILLED</td>\n    </tr>\n    <tr>\n      <th>...</th>\n      <td>...</td>\n      <td>...</td>\n      <td>...</td>\n      <td>...</td>\n      <td>...</td>\n      <td>...</td>\n      <td>...</td>\n    </tr>\n    <tr>\n      <th>1309</th>\n      <td>2022-03-18</td>\n      <td>ko</td>\n      <td>60.6492</td>\n      <td>100.000000</td>\n      <td>buy</td>\n      <td>exit</td>\n      <td>FILLED</td>\n    </tr>\n    <tr>\n      <th>1310</th>\n      <td>2022-03-21</td>\n      <td>pep</td>\n      <td>158.1524</td>\n      <td>37.365225</td>\n      <td>sell</td>\n      <td>exit</td>\n      <td>FILLED</td>\n    </tr>\n    <tr>\n      <th>1310</th>\n      <td>2022-03-21</td>\n      <td>ko</td>\n      <td>61.5060</td>\n      <td>100.000000</td>\n      <td>buy</td>\n      <td>exit</td>\n      <td>FILLED</td>\n    </tr>\n    <tr>\n      <th>1312</th>\n      <td>2022-03-23</td>\n      <td>ko</td>\n      <td>62.1486</td>\n      <td>100.000000</td>\n      <td>buy</td>\n      <td>exit</td>\n      <td>FILLED</td>\n    </tr>\n    <tr>\n      <th>1312</th>\n      <td>2022-03-23</td>\n      <td>pep</td>\n      <td>159.5832</td>\n      <td>37.417097</td>\n      <td>sell</td>\n      <td>exit</td>\n      <td>FILLED</td>\n    </tr>\n  </tbody>\n</table>\n<p>1358 rows × 7 columns</p>\n</div>"
     },
     "execution_count": 60,
     "metadata": {},
     "output_type": "execute_result"
    }
   ],
   "source": [
    "exit_result"
   ],
   "metadata": {
    "collapsed": false,
    "pycharm": {
     "name": "#%%\n"
    }
   }
  },
  {
   "cell_type": "code",
   "execution_count": 61,
   "outputs": [
    {
     "data": {
      "text/plain": "           date ticker     price    quantity action  trip  status\n83   2017-05-05     ko   44.2884  100.000000    buy  exit  FILLED\n83   2017-05-05    pep  109.9266   38.709102   sell  exit  FILLED\n84   2017-05-08    pep  110.7792   38.738500   sell  exit  FILLED\n84   2017-05-08     ko   44.6658  100.000000    buy  exit  FILLED\n85   2017-05-09     ko   44.4618  100.000000    buy  exit  FILLED\n...         ...    ...       ...         ...    ...   ...     ...\n1309 2022-03-18     ko   60.6492  100.000000    buy  exit  FILLED\n1310 2022-03-21    pep  158.1524   37.365225   sell  exit  FILLED\n1310 2022-03-21     ko   61.5060  100.000000    buy  exit  FILLED\n1312 2022-03-23     ko   62.1486  100.000000    buy  exit  FILLED\n1312 2022-03-23    pep  159.5832   37.417097   sell  exit  FILLED\n\n[1358 rows x 7 columns]",
      "text/html": "<div>\n<style scoped>\n    .dataframe tbody tr th:only-of-type {\n        vertical-align: middle;\n    }\n\n    .dataframe tbody tr th {\n        vertical-align: top;\n    }\n\n    .dataframe thead th {\n        text-align: right;\n    }\n</style>\n<table border=\"1\" class=\"dataframe\">\n  <thead>\n    <tr style=\"text-align: right;\">\n      <th></th>\n      <th>date</th>\n      <th>ticker</th>\n      <th>price</th>\n      <th>quantity</th>\n      <th>action</th>\n      <th>trip</th>\n      <th>status</th>\n    </tr>\n  </thead>\n  <tbody>\n    <tr>\n      <th>83</th>\n      <td>2017-05-05</td>\n      <td>ko</td>\n      <td>44.2884</td>\n      <td>100.000000</td>\n      <td>buy</td>\n      <td>exit</td>\n      <td>FILLED</td>\n    </tr>\n    <tr>\n      <th>83</th>\n      <td>2017-05-05</td>\n      <td>pep</td>\n      <td>109.9266</td>\n      <td>38.709102</td>\n      <td>sell</td>\n      <td>exit</td>\n      <td>FILLED</td>\n    </tr>\n    <tr>\n      <th>84</th>\n      <td>2017-05-08</td>\n      <td>pep</td>\n      <td>110.7792</td>\n      <td>38.738500</td>\n      <td>sell</td>\n      <td>exit</td>\n      <td>FILLED</td>\n    </tr>\n    <tr>\n      <th>84</th>\n      <td>2017-05-08</td>\n      <td>ko</td>\n      <td>44.6658</td>\n      <td>100.000000</td>\n      <td>buy</td>\n      <td>exit</td>\n      <td>FILLED</td>\n    </tr>\n    <tr>\n      <th>85</th>\n      <td>2017-05-09</td>\n      <td>ko</td>\n      <td>44.4618</td>\n      <td>100.000000</td>\n      <td>buy</td>\n      <td>exit</td>\n      <td>FILLED</td>\n    </tr>\n    <tr>\n      <th>...</th>\n      <td>...</td>\n      <td>...</td>\n      <td>...</td>\n      <td>...</td>\n      <td>...</td>\n      <td>...</td>\n      <td>...</td>\n    </tr>\n    <tr>\n      <th>1309</th>\n      <td>2022-03-18</td>\n      <td>ko</td>\n      <td>60.6492</td>\n      <td>100.000000</td>\n      <td>buy</td>\n      <td>exit</td>\n      <td>FILLED</td>\n    </tr>\n    <tr>\n      <th>1310</th>\n      <td>2022-03-21</td>\n      <td>pep</td>\n      <td>158.1524</td>\n      <td>37.365225</td>\n      <td>sell</td>\n      <td>exit</td>\n      <td>FILLED</td>\n    </tr>\n    <tr>\n      <th>1310</th>\n      <td>2022-03-21</td>\n      <td>ko</td>\n      <td>61.5060</td>\n      <td>100.000000</td>\n      <td>buy</td>\n      <td>exit</td>\n      <td>FILLED</td>\n    </tr>\n    <tr>\n      <th>1312</th>\n      <td>2022-03-23</td>\n      <td>ko</td>\n      <td>62.1486</td>\n      <td>100.000000</td>\n      <td>buy</td>\n      <td>exit</td>\n      <td>FILLED</td>\n    </tr>\n    <tr>\n      <th>1312</th>\n      <td>2022-03-23</td>\n      <td>pep</td>\n      <td>159.5832</td>\n      <td>37.417097</td>\n      <td>sell</td>\n      <td>exit</td>\n      <td>FILLED</td>\n    </tr>\n  </tbody>\n</table>\n<p>1358 rows × 7 columns</p>\n</div>"
     },
     "execution_count": 61,
     "metadata": {},
     "output_type": "execute_result"
    }
   ],
   "source": [
    "exit_order_mkt = exit_result.copy(deep=True)\n",
    "\n",
    "# select rows where status is TIMEOUT or STOPLOSS\n",
    "# exit_order_mkt = exit_order_mkt.loc[exit_order_mkt['status'].isin(['STOPLOSS', 'TIMEOUT'])]\n",
    "\n",
    "exit_order_mkt"
   ],
   "metadata": {
    "collapsed": false,
    "pycharm": {
     "name": "#%%\n"
    }
   }
  },
  {
   "cell_type": "code",
   "execution_count": 62,
   "outputs": [
    {
     "name": "stdout",
     "output_type": "stream",
     "text": [
      "83\n",
      "1312\n"
     ]
    }
   ],
   "source": [
    "first_index = exit_order_mkt.first_valid_index()\n",
    "last_index = exit_order_mkt.index[-1]\n",
    "\n",
    "print(first_index)\n",
    "print(last_index)"
   ],
   "metadata": {
    "collapsed": false,
    "pycharm": {
     "name": "#%%\n"
    }
   }
  },
  {
   "cell_type": "code",
   "execution_count": 63,
   "outputs": [],
   "source": [
    "exit_order_mkt['price_mkt'] = exit_order_mkt['price']\n",
    "# exit_order_mkt['status_mkt'] = 'FILLED'"
   ],
   "metadata": {
    "collapsed": false,
    "pycharm": {
     "name": "#%%\n"
    }
   }
  },
  {
   "cell_type": "code",
   "execution_count": 64,
   "outputs": [],
   "source": [
    "for i in range(first_index, last_index + 1):\n",
    "    if i in exit_order_mkt.index:\n",
    "        if exit_order_mkt['status'][i].values[0] == 'STOPLOSS' or exit_order_mkt['status'][i].values[1] == 'STOPLOSS' or exit_order_mkt['status'][i].values[0] == 'TIMEOUT' or exit_order_mkt['status'][i].values[1] == 'TIMEOUT':\n",
    "            if exit_order_mkt['ticker'][i].values[0] == 'ko':\n",
    "                exit_order_mkt['price_mkt'][i].values[0] = csv_df['ko_Close'][i + 2]\n",
    "                exit_order_mkt['price_mkt'][i].values[1] = csv_df['pep_Close'][i + 2]\n",
    "            else:\n",
    "                exit_order_mkt['price_mkt'][i].values[0] = csv_df['pep_Close'][i + 2]\n",
    "                exit_order_mkt['price_mkt'][i].values[1] = csv_df['ko_Close'][i + 2]\n",
    "        else:\n",
    "            exit_order_mkt['price_mkt'][i].values[0] = exit_order_mkt['price'][i].values[0]\n",
    "            exit_order_mkt['price_mkt'][i].values[1] = exit_order_mkt['price'][i].values[1]\n",
    "    else:\n",
    "        continue"
   ],
   "metadata": {
    "collapsed": false,
    "pycharm": {
     "name": "#%%\n"
    }
   }
  },
  {
   "cell_type": "code",
   "execution_count": 65,
   "outputs": [
    {
     "data": {
      "text/plain": "           date ticker     price    quantity action  trip  status  price_mkt\n83   2017-05-05     ko   44.2884  100.000000    buy  exit  FILLED    44.2884\n83   2017-05-05    pep  109.9266   38.709102   sell  exit  FILLED   109.9266\n84   2017-05-08    pep  110.7792   38.738500   sell  exit  FILLED   110.7792\n84   2017-05-08     ko   44.6658  100.000000    buy  exit  FILLED    44.6658\n85   2017-05-09     ko   44.4618  100.000000    buy  exit  FILLED    44.4618\n...         ...    ...       ...         ...    ...   ...     ...        ...\n1309 2022-03-18     ko   60.6492  100.000000    buy  exit  FILLED    60.6492\n1310 2022-03-21    pep  158.1524   37.365225   sell  exit  FILLED   158.1524\n1310 2022-03-21     ko   61.5060  100.000000    buy  exit  FILLED    61.5060\n1312 2022-03-23     ko   62.1486  100.000000    buy  exit  FILLED    62.1486\n1312 2022-03-23    pep  159.5832   37.417097   sell  exit  FILLED   159.5832\n\n[1358 rows x 8 columns]",
      "text/html": "<div>\n<style scoped>\n    .dataframe tbody tr th:only-of-type {\n        vertical-align: middle;\n    }\n\n    .dataframe tbody tr th {\n        vertical-align: top;\n    }\n\n    .dataframe thead th {\n        text-align: right;\n    }\n</style>\n<table border=\"1\" class=\"dataframe\">\n  <thead>\n    <tr style=\"text-align: right;\">\n      <th></th>\n      <th>date</th>\n      <th>ticker</th>\n      <th>price</th>\n      <th>quantity</th>\n      <th>action</th>\n      <th>trip</th>\n      <th>status</th>\n      <th>price_mkt</th>\n    </tr>\n  </thead>\n  <tbody>\n    <tr>\n      <th>83</th>\n      <td>2017-05-05</td>\n      <td>ko</td>\n      <td>44.2884</td>\n      <td>100.000000</td>\n      <td>buy</td>\n      <td>exit</td>\n      <td>FILLED</td>\n      <td>44.2884</td>\n    </tr>\n    <tr>\n      <th>83</th>\n      <td>2017-05-05</td>\n      <td>pep</td>\n      <td>109.9266</td>\n      <td>38.709102</td>\n      <td>sell</td>\n      <td>exit</td>\n      <td>FILLED</td>\n      <td>109.9266</td>\n    </tr>\n    <tr>\n      <th>84</th>\n      <td>2017-05-08</td>\n      <td>pep</td>\n      <td>110.7792</td>\n      <td>38.738500</td>\n      <td>sell</td>\n      <td>exit</td>\n      <td>FILLED</td>\n      <td>110.7792</td>\n    </tr>\n    <tr>\n      <th>84</th>\n      <td>2017-05-08</td>\n      <td>ko</td>\n      <td>44.6658</td>\n      <td>100.000000</td>\n      <td>buy</td>\n      <td>exit</td>\n      <td>FILLED</td>\n      <td>44.6658</td>\n    </tr>\n    <tr>\n      <th>85</th>\n      <td>2017-05-09</td>\n      <td>ko</td>\n      <td>44.4618</td>\n      <td>100.000000</td>\n      <td>buy</td>\n      <td>exit</td>\n      <td>FILLED</td>\n      <td>44.4618</td>\n    </tr>\n    <tr>\n      <th>...</th>\n      <td>...</td>\n      <td>...</td>\n      <td>...</td>\n      <td>...</td>\n      <td>...</td>\n      <td>...</td>\n      <td>...</td>\n      <td>...</td>\n    </tr>\n    <tr>\n      <th>1309</th>\n      <td>2022-03-18</td>\n      <td>ko</td>\n      <td>60.6492</td>\n      <td>100.000000</td>\n      <td>buy</td>\n      <td>exit</td>\n      <td>FILLED</td>\n      <td>60.6492</td>\n    </tr>\n    <tr>\n      <th>1310</th>\n      <td>2022-03-21</td>\n      <td>pep</td>\n      <td>158.1524</td>\n      <td>37.365225</td>\n      <td>sell</td>\n      <td>exit</td>\n      <td>FILLED</td>\n      <td>158.1524</td>\n    </tr>\n    <tr>\n      <th>1310</th>\n      <td>2022-03-21</td>\n      <td>ko</td>\n      <td>61.5060</td>\n      <td>100.000000</td>\n      <td>buy</td>\n      <td>exit</td>\n      <td>FILLED</td>\n      <td>61.5060</td>\n    </tr>\n    <tr>\n      <th>1312</th>\n      <td>2022-03-23</td>\n      <td>ko</td>\n      <td>62.1486</td>\n      <td>100.000000</td>\n      <td>buy</td>\n      <td>exit</td>\n      <td>FILLED</td>\n      <td>62.1486</td>\n    </tr>\n    <tr>\n      <th>1312</th>\n      <td>2022-03-23</td>\n      <td>pep</td>\n      <td>159.5832</td>\n      <td>37.417097</td>\n      <td>sell</td>\n      <td>exit</td>\n      <td>FILLED</td>\n      <td>159.5832</td>\n    </tr>\n  </tbody>\n</table>\n<p>1358 rows × 8 columns</p>\n</div>"
     },
     "execution_count": 65,
     "metadata": {},
     "output_type": "execute_result"
    }
   ],
   "source": [
    "exit_order_mkt"
   ],
   "metadata": {
    "collapsed": false,
    "pycharm": {
     "name": "#%%\n"
    }
   }
  },
  {
   "cell_type": "code",
   "execution_count": 66,
   "outputs": [
    {
     "data": {
      "text/plain": "           date ticker     price    quantity action  trip  status\n83   2017-05-05     ko   44.2884  100.000000    buy  exit  FILLED\n83   2017-05-05    pep  109.9266   38.709102   sell  exit  FILLED\n84   2017-05-08    pep  110.7792   38.738500   sell  exit  FILLED\n84   2017-05-08     ko   44.6658  100.000000    buy  exit  FILLED\n85   2017-05-09     ko   44.4618  100.000000    buy  exit  FILLED\n...         ...    ...       ...         ...    ...   ...     ...\n1309 2022-03-18     ko   60.6492  100.000000    buy  exit  FILLED\n1310 2022-03-21    pep  158.1524   37.365225   sell  exit  FILLED\n1310 2022-03-21     ko   61.5060  100.000000    buy  exit  FILLED\n1312 2022-03-23     ko   62.1486  100.000000    buy  exit  FILLED\n1312 2022-03-23    pep  159.5832   37.417097   sell  exit  FILLED\n\n[1358 rows x 7 columns]",
      "text/html": "<div>\n<style scoped>\n    .dataframe tbody tr th:only-of-type {\n        vertical-align: middle;\n    }\n\n    .dataframe tbody tr th {\n        vertical-align: top;\n    }\n\n    .dataframe thead th {\n        text-align: right;\n    }\n</style>\n<table border=\"1\" class=\"dataframe\">\n  <thead>\n    <tr style=\"text-align: right;\">\n      <th></th>\n      <th>date</th>\n      <th>ticker</th>\n      <th>price</th>\n      <th>quantity</th>\n      <th>action</th>\n      <th>trip</th>\n      <th>status</th>\n    </tr>\n  </thead>\n  <tbody>\n    <tr>\n      <th>83</th>\n      <td>2017-05-05</td>\n      <td>ko</td>\n      <td>44.2884</td>\n      <td>100.000000</td>\n      <td>buy</td>\n      <td>exit</td>\n      <td>FILLED</td>\n    </tr>\n    <tr>\n      <th>83</th>\n      <td>2017-05-05</td>\n      <td>pep</td>\n      <td>109.9266</td>\n      <td>38.709102</td>\n      <td>sell</td>\n      <td>exit</td>\n      <td>FILLED</td>\n    </tr>\n    <tr>\n      <th>84</th>\n      <td>2017-05-08</td>\n      <td>pep</td>\n      <td>110.7792</td>\n      <td>38.738500</td>\n      <td>sell</td>\n      <td>exit</td>\n      <td>FILLED</td>\n    </tr>\n    <tr>\n      <th>84</th>\n      <td>2017-05-08</td>\n      <td>ko</td>\n      <td>44.6658</td>\n      <td>100.000000</td>\n      <td>buy</td>\n      <td>exit</td>\n      <td>FILLED</td>\n    </tr>\n    <tr>\n      <th>85</th>\n      <td>2017-05-09</td>\n      <td>ko</td>\n      <td>44.4618</td>\n      <td>100.000000</td>\n      <td>buy</td>\n      <td>exit</td>\n      <td>FILLED</td>\n    </tr>\n    <tr>\n      <th>...</th>\n      <td>...</td>\n      <td>...</td>\n      <td>...</td>\n      <td>...</td>\n      <td>...</td>\n      <td>...</td>\n      <td>...</td>\n    </tr>\n    <tr>\n      <th>1309</th>\n      <td>2022-03-18</td>\n      <td>ko</td>\n      <td>60.6492</td>\n      <td>100.000000</td>\n      <td>buy</td>\n      <td>exit</td>\n      <td>FILLED</td>\n    </tr>\n    <tr>\n      <th>1310</th>\n      <td>2022-03-21</td>\n      <td>pep</td>\n      <td>158.1524</td>\n      <td>37.365225</td>\n      <td>sell</td>\n      <td>exit</td>\n      <td>FILLED</td>\n    </tr>\n    <tr>\n      <th>1310</th>\n      <td>2022-03-21</td>\n      <td>ko</td>\n      <td>61.5060</td>\n      <td>100.000000</td>\n      <td>buy</td>\n      <td>exit</td>\n      <td>FILLED</td>\n    </tr>\n    <tr>\n      <th>1312</th>\n      <td>2022-03-23</td>\n      <td>ko</td>\n      <td>62.1486</td>\n      <td>100.000000</td>\n      <td>buy</td>\n      <td>exit</td>\n      <td>FILLED</td>\n    </tr>\n    <tr>\n      <th>1312</th>\n      <td>2022-03-23</td>\n      <td>pep</td>\n      <td>159.5832</td>\n      <td>37.417097</td>\n      <td>sell</td>\n      <td>exit</td>\n      <td>FILLED</td>\n    </tr>\n  </tbody>\n</table>\n<p>1358 rows × 7 columns</p>\n</div>"
     },
     "execution_count": 66,
     "metadata": {},
     "output_type": "execute_result"
    }
   ],
   "source": [
    "# format the dataframe\n",
    "del exit_order_mkt['price']\n",
    "order2 = ['date', 'ticker', 'price_mkt', 'quantity', 'action', 'trip', 'status']\n",
    "exit_order_mkt = exit_order_mkt[order2]\n",
    "exit_order_mkt.columns = ['date', 'ticker', 'price', 'quantity', 'action', 'trip', 'status']\n",
    "exit_order_mkt['date'] = pd.to_datetime(exit_order_mkt['date'])\n",
    "\n",
    "exit_order_mkt"
   ],
   "metadata": {
    "collapsed": false,
    "pycharm": {
     "name": "#%%\n"
    }
   }
  },
  {
   "cell_type": "code",
   "execution_count": 67,
   "outputs": [
    {
     "data": {
      "text/plain": "           date ticker     price    quantity action  trip  status\n1312 2022-03-23    pep  159.5832   37.417097   sell  exit  FILLED\n1312 2022-03-23     ko   62.1486  100.000000    buy  exit  FILLED\n1310 2022-03-21     ko   61.5060  100.000000    buy  exit  FILLED\n1310 2022-03-21    pep  158.1524   37.365225   sell  exit  FILLED\n1309 2022-03-18     ko   60.6492  100.000000    buy  exit  FILLED\n...         ...    ...       ...         ...    ...   ...     ...\n85   2017-05-09    pep  110.9360   38.507067   sell  exit  FILLED\n84   2017-05-08    pep  110.7792   38.738500   sell  exit  FILLED\n84   2017-05-08     ko   44.6658  100.000000    buy  exit  FILLED\n83   2017-05-05    pep  109.9266   38.709102   sell  exit  FILLED\n83   2017-05-05     ko   44.2884  100.000000    buy  exit  FILLED\n\n[1358 rows x 7 columns]",
      "text/html": "<div>\n<style scoped>\n    .dataframe tbody tr th:only-of-type {\n        vertical-align: middle;\n    }\n\n    .dataframe tbody tr th {\n        vertical-align: top;\n    }\n\n    .dataframe thead th {\n        text-align: right;\n    }\n</style>\n<table border=\"1\" class=\"dataframe\">\n  <thead>\n    <tr style=\"text-align: right;\">\n      <th></th>\n      <th>date</th>\n      <th>ticker</th>\n      <th>price</th>\n      <th>quantity</th>\n      <th>action</th>\n      <th>trip</th>\n      <th>status</th>\n    </tr>\n  </thead>\n  <tbody>\n    <tr>\n      <th>1312</th>\n      <td>2022-03-23</td>\n      <td>pep</td>\n      <td>159.5832</td>\n      <td>37.417097</td>\n      <td>sell</td>\n      <td>exit</td>\n      <td>FILLED</td>\n    </tr>\n    <tr>\n      <th>1312</th>\n      <td>2022-03-23</td>\n      <td>ko</td>\n      <td>62.1486</td>\n      <td>100.000000</td>\n      <td>buy</td>\n      <td>exit</td>\n      <td>FILLED</td>\n    </tr>\n    <tr>\n      <th>1310</th>\n      <td>2022-03-21</td>\n      <td>ko</td>\n      <td>61.5060</td>\n      <td>100.000000</td>\n      <td>buy</td>\n      <td>exit</td>\n      <td>FILLED</td>\n    </tr>\n    <tr>\n      <th>1310</th>\n      <td>2022-03-21</td>\n      <td>pep</td>\n      <td>158.1524</td>\n      <td>37.365225</td>\n      <td>sell</td>\n      <td>exit</td>\n      <td>FILLED</td>\n    </tr>\n    <tr>\n      <th>1309</th>\n      <td>2022-03-18</td>\n      <td>ko</td>\n      <td>60.6492</td>\n      <td>100.000000</td>\n      <td>buy</td>\n      <td>exit</td>\n      <td>FILLED</td>\n    </tr>\n    <tr>\n      <th>...</th>\n      <td>...</td>\n      <td>...</td>\n      <td>...</td>\n      <td>...</td>\n      <td>...</td>\n      <td>...</td>\n      <td>...</td>\n    </tr>\n    <tr>\n      <th>85</th>\n      <td>2017-05-09</td>\n      <td>pep</td>\n      <td>110.9360</td>\n      <td>38.507067</td>\n      <td>sell</td>\n      <td>exit</td>\n      <td>FILLED</td>\n    </tr>\n    <tr>\n      <th>84</th>\n      <td>2017-05-08</td>\n      <td>pep</td>\n      <td>110.7792</td>\n      <td>38.738500</td>\n      <td>sell</td>\n      <td>exit</td>\n      <td>FILLED</td>\n    </tr>\n    <tr>\n      <th>84</th>\n      <td>2017-05-08</td>\n      <td>ko</td>\n      <td>44.6658</td>\n      <td>100.000000</td>\n      <td>buy</td>\n      <td>exit</td>\n      <td>FILLED</td>\n    </tr>\n    <tr>\n      <th>83</th>\n      <td>2017-05-05</td>\n      <td>pep</td>\n      <td>109.9266</td>\n      <td>38.709102</td>\n      <td>sell</td>\n      <td>exit</td>\n      <td>FILLED</td>\n    </tr>\n    <tr>\n      <th>83</th>\n      <td>2017-05-05</td>\n      <td>ko</td>\n      <td>44.2884</td>\n      <td>100.000000</td>\n      <td>buy</td>\n      <td>exit</td>\n      <td>FILLED</td>\n    </tr>\n  </tbody>\n</table>\n<p>1358 rows × 7 columns</p>\n</div>"
     },
     "execution_count": 67,
     "metadata": {},
     "output_type": "execute_result"
    }
   ],
   "source": [
    "# frames = [exit_result, exit_order_mkt]\n",
    "# result = pd.concat(frames)\n",
    "exit_order_mkt['date'] = pd.to_datetime(exit_order_mkt['date'])\n",
    "exit_order_mkt.sort_values(by='date', inplace=True, ascending=False)\n",
    "\n",
    "exit_order_mkt"
   ],
   "metadata": {
    "collapsed": false,
    "pycharm": {
     "name": "#%%\n"
    }
   }
  }
 ],
 "metadata": {
  "kernelspec": {
   "display_name": "Python 3",
   "language": "python",
   "name": "python3"
  },
  "language_info": {
   "codemirror_mode": {
    "name": "ipython",
    "version": 2
   },
   "file_extension": ".py",
   "mimetype": "text/x-python",
   "name": "python",
   "nbconvert_exporter": "python",
   "pygments_lexer": "ipython2",
   "version": "2.7.6"
  }
 },
 "nbformat": 4,
 "nbformat_minor": 0
}