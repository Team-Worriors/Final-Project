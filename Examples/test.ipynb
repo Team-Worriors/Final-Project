{
 "cells": [
  {
   "cell_type": "code",
   "execution_count": 36,
   "metadata": {
    "collapsed": true
   },
   "outputs": [],
   "source": [
    "import pandas as pd\n",
    "import numpy as np"
   ]
  },
  {
   "cell_type": "code",
   "execution_count": 37,
   "outputs": [],
   "source": [
    "def enter_trade(n, prices_dataframe, Lambda):\n",
    "    # calculate alpha ratio\n",
    "    prices_dataframe['alpha'] = prices_dataframe['ko_Close'] / prices_dataframe['pep_Close']\n",
    "\n",
    "    # calculate z_score\n",
    "    def zscore(n):\n",
    "        df_mean = prices_dataframe['alpha'].rolling(n, center=False).mean().shift(1)\n",
    "        df_std = prices_dataframe['alpha'].rolling(n, center=False).std(ddof=1).shift(1)\n",
    "        z_score = (prices_dataframe['alpha'] - df_mean) / df_std\n",
    "        return z_score\n",
    "\n",
    "    z_score = zscore(n)\n",
    "    prices_dataframe['z_score'] = z_score\n",
    "\n",
    "    # determine entry status for Y(ko)\n",
    "    conditions = [\n",
    "        (prices_dataframe['z_score'] > Lambda),\n",
    "        (prices_dataframe['z_score'] <= Lambda) & (prices_dataframe['z_score'] >= -Lambda),\n",
    "        (prices_dataframe['z_score'] < -Lambda)\n",
    "    ]\n",
    "    values = ['sell', 'do not enter', 'buy']\n",
    "    prices_dataframe['action_y'] = np.select(conditions, values)\n",
    "    prices_dataframe['date'] = prices_dataframe['Date'].shift(-1)\n",
    "    prices_dataframe['price_y'] = prices_dataframe['ko_Open'].shift(-1)\n",
    "    prices_dataframe['amount_y'] = 100  #####default enter amount is 100\n",
    "    prices_dataframe['ticker_y'] = 'ko'\n",
    "\n",
    "    # determine entry status for X(pep)\n",
    "    conditions = [\n",
    "        (prices_dataframe['action_y'] == 'sell'),\n",
    "        (prices_dataframe['action_y'] == 'do not enter'),\n",
    "        (prices_dataframe['action_y'] == 'buy')\n",
    "    ]\n",
    "    values = ['buy', 'do not enter', 'sell']\n",
    "    prices_dataframe['action_x'] = np.select(conditions, values)\n",
    "    prices_dataframe['price_x'] = prices_dataframe['pep_Open'].shift(-1)\n",
    "    prices_dataframe['amount_x'] = prices_dataframe[\"price_y\"] * prices_dataframe['amount_y'] / prices_dataframe[\n",
    "        'price_x']\n",
    "    prices_dataframe['ticker_x'] = 'pep'\n",
    "\n",
    "    # create dataframe for Y(ko)\n",
    "    df1 = prices_dataframe[['date', 'ticker_y', 'price_y', 'amount_y', 'action_y']]\n",
    "    df_y = df1[(df1.action_y != '0') & (df1.action_y != 'do not enter')]\n",
    "    df_y.rename(columns={'ticker_y': 'ticker', 'price_y': 'price', 'amount_y': 'quantity', 'action_y': 'action'},\n",
    "                inplace=True)\n",
    "\n",
    "    # create dataframe for X(pep)\n",
    "    df2 = prices_dataframe[['date', 'ticker_x', 'price_x', 'amount_x', 'action_x']]\n",
    "    df_x = df2[(df2.action_x != '0') & (df2.action_x != 'do not enter')]\n",
    "    df_x.rename(columns={'ticker_x': 'ticker', 'price_x': 'price', 'amount_x': 'quantity', 'action_x': 'action'},\n",
    "                inplace=True)\n",
    "\n",
    "    # concat X and Y\n",
    "    frames = [df_y, df_x]\n",
    "    result = pd.concat(frames)\n",
    "    result['trip'] = 'entry'\n",
    "    result['status'] = 'FILLED'\n",
    "    result['date'] = pd.to_datetime(result['date'])\n",
    "    result.sort_values(by='date', inplace=True, ascending=True)\n",
    "    return result"
   ],
   "metadata": {
    "collapsed": false,
    "pycharm": {
     "name": "#%%\n"
    }
   }
  },
  {
   "cell_type": "code",
   "execution_count": 38,
   "outputs": [],
   "source": [
    "def exit_trade(n, prices_dataframe, entry_trade, rho, L, X):\n",
    "    # copy entry_trade 作为exit修改的基础\n",
    "\n",
    "    first_index = entry_trade.first_valid_index()\n",
    "    last_index = entry_trade.index[-1]\n",
    "\n",
    "    exit_order = entry_trade.copy(deep=True)\n",
    "\n",
    "    # 遍历 entry_trade 修改action和trip的状态\n",
    "    exit_order['trip'] = 'exit'\n",
    "\n",
    "    # change LMT price\n",
    "    price2 = [\n",
    "        (exit_order['action'] == 'sell'),\n",
    "        (exit_order['action'] == 'buy')\n",
    "    ]\n",
    "    # create a list of values we want to assign for each condition\n",
    "    price2_values = [exit_order['price'] * (1 + rho), exit_order['price'] * (1 - rho)]\n",
    "    # create a new column and use np.select to assign values to it using our lists as arguments\n",
    "    exit_order['price_exit'] = np.select(price2, price2_values)\n",
    "\n",
    "    # create a list of action2 to change action\n",
    "    action2 = [\n",
    "        (exit_order['action'] == 'sell'),\n",
    "        (exit_order['action'] == 'buy')\n",
    "    ]\n",
    "    # create a list of values we want to assign for each condition\n",
    "    action2_values = ['buy', 'sell']\n",
    "    # create a new column and use np.select to assign values to it using our lists as arguments\n",
    "    exit_order['action_exit'] = np.select(action2, action2_values)\n",
    "\n",
    "    del exit_order['action'], exit_order['price']\n",
    "    order = ['date', 'ticker', 'price_exit', 'quantity', 'action_exit', 'trip', 'status']\n",
    "    exit_order = exit_order[order]\n",
    "    exit_order.columns = ['date', 'ticker', 'price', 'quantity', 'action', 'trip', 'status']\n",
    "\n",
    "    # 判断status\n",
    "    exit_order['date_exit'] = ''\n",
    "    exit_order['status_exit'] = ''\n",
    "\n",
    "    for i in range(first_index, last_index + 1):\n",
    "        if i in exit_order.index:\n",
    "            if exit_order['ticker'][i].values[0] == 'ko' and exit_order['action'][i].values[0] == 'buy':\n",
    "                for j in range(i + 1, i + X+1):  # x=60\n",
    "                    Loss = ((prices_dataframe['ko_Close'][j] - exit_order['price'][i].values[0]) /\n",
    "                            exit_order['price'][i].values[0]) * 100\n",
    "                    if Loss > L:  # L=20\n",
    "                        exit_order['status_exit'][i] = 'STOPLOSS'\n",
    "                        exit_order['date_exit'][i] = prices_dataframe['Date'][j + 1]\n",
    "                        break\n",
    "                    elif exit_order['price'][i].values[0] > prices_dataframe['ko_Close'][j]:\n",
    "                        exit_order['status_exit'][i] = 'FILLED'\n",
    "                        exit_order['date_exit'][i] = prices_dataframe['Date'][j + 1]\n",
    "                        break\n",
    "                    else:\n",
    "                        if i + X+1 > last_index:\n",
    "                            exit_order['status_exit'][i] = 'OPEN'\n",
    "                            exit_order['date_exit'][i] = prices_dataframe['Date'][j + 1]\n",
    "                            break\n",
    "                        else:\n",
    "                            exit_order['status_exit'][i] = 'TIMEOUT'\n",
    "                            exit_order['date_exit'][i] = prices_dataframe['Date'][j + 1]\n",
    "                            break\n",
    "            elif exit_order['ticker'][i].values[0] == 'ko' and exit_order['action'][i].values[0] == 'sell':\n",
    "                for j in range(i + 1, i + X+1):\n",
    "                    Loss = -((prices_dataframe['ko_Close'][j] - exit_order['price'][i].values[0]) /\n",
    "                             exit_order['price'][i].values[0]) * 100\n",
    "                    if Loss > L:  # L=20\n",
    "                        exit_order['status_exit'][i] = 'STOPLOSS'\n",
    "                        exit_order['date_exit'][i] = prices_dataframe['Date'][j + 1]\n",
    "                        break\n",
    "                    elif exit_order['price'][i].values[0] < prices_dataframe['ko_Close'][j]:\n",
    "                        exit_order['status_exit'][i] = 'FILLED'\n",
    "                        exit_order['date_exit'][i] = prices_dataframe['Date'][j + 1]\n",
    "                        break\n",
    "                    else:\n",
    "                        if i + X+1 > last_index:\n",
    "                            exit_order['status_exit'][i] = 'OPEN'\n",
    "                            exit_order['date_exit'][i] = prices_dataframe['Date'][j + 1]\n",
    "                            break\n",
    "                        else:\n",
    "                            exit_order['status_exit'][i] = 'TIMEOUT'\n",
    "                            exit_order['date_exit'][i] = prices_dataframe['Date'][j + 1]\n",
    "                            break\n",
    "            elif exit_order['ticker'][i].values[0] == 'pep' and exit_order['action'][i].values[0] == 'buy':\n",
    "                for j in range(i + 1, i + X+1):\n",
    "                    Loss = ((prices_dataframe['pep_Close'][j] - exit_order['price'][i].values[0]) /\n",
    "                            exit_order['price'][i].values[0]) * 100\n",
    "                    if Loss > L:  # L=20\n",
    "                        exit_order['status_exit'][i] = 'STOPLOSS'\n",
    "                        exit_order['date_exit'][i] = prices_dataframe['Date'][j + 1]\n",
    "                        break\n",
    "                    elif exit_order['price'][i].values[0] > prices_dataframe['pep_Close'][j + 1]:\n",
    "                        exit_order['status_exit'][i] = 'FILLED'\n",
    "                        exit_order['date_exit'][i] = prices_dataframe['Date'][j + 1]\n",
    "                        break\n",
    "                    else:\n",
    "                        if i + X+1 > last_index:\n",
    "                            exit_order['status_exit'][i] = 'OPEN'\n",
    "                            exit_order['date_exit'][i] = prices_dataframe['Date'][j + 1]\n",
    "                            break\n",
    "                        else:\n",
    "                            exit_order['status_exit'][i] = 'TIMEOUT'\n",
    "                            exit_order['date_exit'][i] = prices_dataframe['Date'][j + 1]\n",
    "                            break\n",
    "            else:\n",
    "                for j in range(i + 1, i + X+1):\n",
    "                    Loss = -((prices_dataframe['pep_Close'][j] - exit_order['price'][i].values[0]) /\n",
    "                             exit_order['price'][i].values[0]) * 100\n",
    "                    if Loss > L:  # L=20\n",
    "                        exit_order['status_exit'][i] = 'STOPLOSS'\n",
    "                        exit_order['date_exit'][i] = prices_dataframe['Date'][j + 1]\n",
    "                        break\n",
    "                    elif exit_order['price'][i].values[0] < prices_dataframe['pep_Close'][j + 1]:\n",
    "                        exit_order['status_exit'][i] = 'FILLED'\n",
    "                        exit_order['date_exit'][i] = prices_dataframe['Date'][j + 1]\n",
    "                        break\n",
    "                    else:\n",
    "                        if i + X+1 > last_index:\n",
    "                            exit_order['status_exit'][i] = 'OPEN'\n",
    "                            exit_order['date_exit'][i] = prices_dataframe['Date'][j + 1]\n",
    "                            break\n",
    "                        else:\n",
    "                            exit_order['status_exit'][i] = 'TIMEOUT'\n",
    "                            exit_order['date_exit'][i] = prices_dataframe['Date'][j + 1]\n",
    "                            break\n",
    "        else:\n",
    "            continue\n",
    "\n",
    "    # format the dataframe\n",
    "    del exit_order['date'], exit_order['status']\n",
    "    order = ['date_exit', 'ticker', 'price', 'quantity', 'action', 'trip', 'status_exit']\n",
    "    exit_order = exit_order[order]\n",
    "    exit_order.columns = ['date', 'ticker', 'price', 'quantity', 'action', 'trip', 'status']\n",
    "    exit_order['date'] = pd.to_datetime(exit_order['date'])\n",
    "\n",
    "    # concat X and Y\n",
    "    frames = [exit_order, entry_trade]\n",
    "    result = pd.concat(frames)\n",
    "    result['date'] = pd.to_datetime(result['date'])\n",
    "    result.sort_values(by='date', inplace=True, ascending=True)\n",
    "    return result"
   ],
   "metadata": {
    "collapsed": false,
    "pycharm": {
     "name": "#%%\n"
    }
   }
  },
  {
   "cell_type": "code",
   "execution_count": 39,
   "outputs": [
    {
     "name": "stderr",
     "output_type": "stream",
     "text": [
      "/var/folders/q5/8pth12v54gs74jcrx3l_hx540000gn/T/ipykernel_76649/2184084346.py:44: SettingWithCopyWarning: \n",
      "A value is trying to be set on a copy of a slice from a DataFrame\n",
      "\n",
      "See the caveats in the documentation: https://pandas.pydata.org/pandas-docs/stable/user_guide/indexing.html#returning-a-view-versus-a-copy\n",
      "  df_y.rename(columns={'ticker_y': 'ticker', 'price_y': 'price', 'amount_y': 'quantity', 'action_y': 'action'},\n",
      "/var/folders/q5/8pth12v54gs74jcrx3l_hx540000gn/T/ipykernel_76649/2184084346.py:50: SettingWithCopyWarning: \n",
      "A value is trying to be set on a copy of a slice from a DataFrame\n",
      "\n",
      "See the caveats in the documentation: https://pandas.pydata.org/pandas-docs/stable/user_guide/indexing.html#returning-a-view-versus-a-copy\n",
      "  df_x.rename(columns={'ticker_x': 'ticker', 'price_x': 'price', 'amount_x': 'quantity', 'action_x': 'action'},\n",
      "/var/folders/q5/8pth12v54gs74jcrx3l_hx540000gn/T/ipykernel_76649/3005774497.py:52: SettingWithCopyWarning: \n",
      "A value is trying to be set on a copy of a slice from a DataFrame\n",
      "\n",
      "See the caveats in the documentation: https://pandas.pydata.org/pandas-docs/stable/user_guide/indexing.html#returning-a-view-versus-a-copy\n",
      "  exit_order['status_exit'][i] = 'FILLED'\n",
      "/var/folders/q5/8pth12v54gs74jcrx3l_hx540000gn/T/ipykernel_76649/3005774497.py:53: SettingWithCopyWarning: \n",
      "A value is trying to be set on a copy of a slice from a DataFrame\n",
      "\n",
      "See the caveats in the documentation: https://pandas.pydata.org/pandas-docs/stable/user_guide/indexing.html#returning-a-view-versus-a-copy\n",
      "  exit_order['date_exit'][i] = prices_dataframe['Date'][j + 1]\n",
      "/var/folders/q5/8pth12v54gs74jcrx3l_hx540000gn/T/ipykernel_76649/3005774497.py:115: SettingWithCopyWarning: \n",
      "A value is trying to be set on a copy of a slice from a DataFrame\n",
      "\n",
      "See the caveats in the documentation: https://pandas.pydata.org/pandas-docs/stable/user_guide/indexing.html#returning-a-view-versus-a-copy\n",
      "  exit_order['status_exit'][i] = 'FILLED'\n",
      "/var/folders/q5/8pth12v54gs74jcrx3l_hx540000gn/T/ipykernel_76649/3005774497.py:116: SettingWithCopyWarning: \n",
      "A value is trying to be set on a copy of a slice from a DataFrame\n",
      "\n",
      "See the caveats in the documentation: https://pandas.pydata.org/pandas-docs/stable/user_guide/indexing.html#returning-a-view-versus-a-copy\n",
      "  exit_order['date_exit'][i] = prices_dataframe['Date'][j + 1]\n",
      "/var/folders/q5/8pth12v54gs74jcrx3l_hx540000gn/T/ipykernel_76649/3005774497.py:94: SettingWithCopyWarning: \n",
      "A value is trying to be set on a copy of a slice from a DataFrame\n",
      "\n",
      "See the caveats in the documentation: https://pandas.pydata.org/pandas-docs/stable/user_guide/indexing.html#returning-a-view-versus-a-copy\n",
      "  exit_order['status_exit'][i] = 'FILLED'\n",
      "/var/folders/q5/8pth12v54gs74jcrx3l_hx540000gn/T/ipykernel_76649/3005774497.py:95: SettingWithCopyWarning: \n",
      "A value is trying to be set on a copy of a slice from a DataFrame\n",
      "\n",
      "See the caveats in the documentation: https://pandas.pydata.org/pandas-docs/stable/user_guide/indexing.html#returning-a-view-versus-a-copy\n",
      "  exit_order['date_exit'][i] = prices_dataframe['Date'][j + 1]\n",
      "/var/folders/q5/8pth12v54gs74jcrx3l_hx540000gn/T/ipykernel_76649/3005774497.py:73: SettingWithCopyWarning: \n",
      "A value is trying to be set on a copy of a slice from a DataFrame\n",
      "\n",
      "See the caveats in the documentation: https://pandas.pydata.org/pandas-docs/stable/user_guide/indexing.html#returning-a-view-versus-a-copy\n",
      "  exit_order['status_exit'][i] = 'FILLED'\n",
      "/var/folders/q5/8pth12v54gs74jcrx3l_hx540000gn/T/ipykernel_76649/3005774497.py:74: SettingWithCopyWarning: \n",
      "A value is trying to be set on a copy of a slice from a DataFrame\n",
      "\n",
      "See the caveats in the documentation: https://pandas.pydata.org/pandas-docs/stable/user_guide/indexing.html#returning-a-view-versus-a-copy\n",
      "  exit_order['date_exit'][i] = prices_dataframe['Date'][j + 1]\n",
      "/var/folders/q5/8pth12v54gs74jcrx3l_hx540000gn/T/ipykernel_76649/3005774497.py:124: SettingWithCopyWarning: \n",
      "A value is trying to be set on a copy of a slice from a DataFrame\n",
      "\n",
      "See the caveats in the documentation: https://pandas.pydata.org/pandas-docs/stable/user_guide/indexing.html#returning-a-view-versus-a-copy\n",
      "  exit_order['status_exit'][i] = 'TIMEOUT'\n",
      "/var/folders/q5/8pth12v54gs74jcrx3l_hx540000gn/T/ipykernel_76649/3005774497.py:125: SettingWithCopyWarning: \n",
      "A value is trying to be set on a copy of a slice from a DataFrame\n",
      "\n",
      "See the caveats in the documentation: https://pandas.pydata.org/pandas-docs/stable/user_guide/indexing.html#returning-a-view-versus-a-copy\n",
      "  exit_order['date_exit'][i] = prices_dataframe['Date'][j + 1]\n",
      "/var/folders/q5/8pth12v54gs74jcrx3l_hx540000gn/T/ipykernel_76649/3005774497.py:61: SettingWithCopyWarning: \n",
      "A value is trying to be set on a copy of a slice from a DataFrame\n",
      "\n",
      "See the caveats in the documentation: https://pandas.pydata.org/pandas-docs/stable/user_guide/indexing.html#returning-a-view-versus-a-copy\n",
      "  exit_order['status_exit'][i] = 'TIMEOUT'\n",
      "/var/folders/q5/8pth12v54gs74jcrx3l_hx540000gn/T/ipykernel_76649/3005774497.py:62: SettingWithCopyWarning: \n",
      "A value is trying to be set on a copy of a slice from a DataFrame\n",
      "\n",
      "See the caveats in the documentation: https://pandas.pydata.org/pandas-docs/stable/user_guide/indexing.html#returning-a-view-versus-a-copy\n",
      "  exit_order['date_exit'][i] = prices_dataframe['Date'][j + 1]\n",
      "/var/folders/q5/8pth12v54gs74jcrx3l_hx540000gn/T/ipykernel_76649/3005774497.py:103: SettingWithCopyWarning: \n",
      "A value is trying to be set on a copy of a slice from a DataFrame\n",
      "\n",
      "See the caveats in the documentation: https://pandas.pydata.org/pandas-docs/stable/user_guide/indexing.html#returning-a-view-versus-a-copy\n",
      "  exit_order['status_exit'][i] = 'TIMEOUT'\n",
      "/var/folders/q5/8pth12v54gs74jcrx3l_hx540000gn/T/ipykernel_76649/3005774497.py:104: SettingWithCopyWarning: \n",
      "A value is trying to be set on a copy of a slice from a DataFrame\n",
      "\n",
      "See the caveats in the documentation: https://pandas.pydata.org/pandas-docs/stable/user_guide/indexing.html#returning-a-view-versus-a-copy\n",
      "  exit_order['date_exit'][i] = prices_dataframe['Date'][j + 1]\n",
      "/var/folders/q5/8pth12v54gs74jcrx3l_hx540000gn/T/ipykernel_76649/3005774497.py:82: SettingWithCopyWarning: \n",
      "A value is trying to be set on a copy of a slice from a DataFrame\n",
      "\n",
      "See the caveats in the documentation: https://pandas.pydata.org/pandas-docs/stable/user_guide/indexing.html#returning-a-view-versus-a-copy\n",
      "  exit_order['status_exit'][i] = 'TIMEOUT'\n",
      "/var/folders/q5/8pth12v54gs74jcrx3l_hx540000gn/T/ipykernel_76649/3005774497.py:83: SettingWithCopyWarning: \n",
      "A value is trying to be set on a copy of a slice from a DataFrame\n",
      "\n",
      "See the caveats in the documentation: https://pandas.pydata.org/pandas-docs/stable/user_guide/indexing.html#returning-a-view-versus-a-copy\n",
      "  exit_order['date_exit'][i] = prices_dataframe['Date'][j + 1]\n",
      "/var/folders/q5/8pth12v54gs74jcrx3l_hx540000gn/T/ipykernel_76649/3005774497.py:120: SettingWithCopyWarning: \n",
      "A value is trying to be set on a copy of a slice from a DataFrame\n",
      "\n",
      "See the caveats in the documentation: https://pandas.pydata.org/pandas-docs/stable/user_guide/indexing.html#returning-a-view-versus-a-copy\n",
      "  exit_order['status_exit'][i] = 'OPEN'\n",
      "/var/folders/q5/8pth12v54gs74jcrx3l_hx540000gn/T/ipykernel_76649/3005774497.py:121: SettingWithCopyWarning: \n",
      "A value is trying to be set on a copy of a slice from a DataFrame\n",
      "\n",
      "See the caveats in the documentation: https://pandas.pydata.org/pandas-docs/stable/user_guide/indexing.html#returning-a-view-versus-a-copy\n",
      "  exit_order['date_exit'][i] = prices_dataframe['Date'][j + 1]\n",
      "/var/folders/q5/8pth12v54gs74jcrx3l_hx540000gn/T/ipykernel_76649/3005774497.py:57: SettingWithCopyWarning: \n",
      "A value is trying to be set on a copy of a slice from a DataFrame\n",
      "\n",
      "See the caveats in the documentation: https://pandas.pydata.org/pandas-docs/stable/user_guide/indexing.html#returning-a-view-versus-a-copy\n",
      "  exit_order['status_exit'][i] = 'OPEN'\n",
      "/var/folders/q5/8pth12v54gs74jcrx3l_hx540000gn/T/ipykernel_76649/3005774497.py:58: SettingWithCopyWarning: \n",
      "A value is trying to be set on a copy of a slice from a DataFrame\n",
      "\n",
      "See the caveats in the documentation: https://pandas.pydata.org/pandas-docs/stable/user_guide/indexing.html#returning-a-view-versus-a-copy\n",
      "  exit_order['date_exit'][i] = prices_dataframe['Date'][j + 1]\n"
     ]
    }
   ],
   "source": [
    "csv_file = \"worriors_data_raw.csv\"\n",
    "csv_data = pd.read_csv(csv_file, low_memory=False)  # 防止弹出警告\n",
    "csv_df = pd.DataFrame(csv_data)\n",
    "del csv_df['Unnamed: 9'], csv_df['Unnamed: 10'], csv_df['Unnamed: 11'], csv_df['Unnamed: 12']\n",
    "result = enter_trade(60, csv_df, 1)\n",
    "exit_result = exit_trade(60, csv_df, result, 0.02, 20, 60)"
   ],
   "metadata": {
    "collapsed": false,
    "pycharm": {
     "name": "#%%\n"
    }
   }
  },
  {
   "cell_type": "code",
   "execution_count": 40,
   "outputs": [
    {
     "data": {
      "text/plain": "           date ticker     price    quantity action   trip  status\n83   2017-05-04    pep  112.1700   38.709102    buy  entry  FILLED\n83   2017-05-04     ko   43.4200  100.000000   sell  entry  FILLED\n84   2017-05-05     ko   43.7900  100.000000   sell  entry  FILLED\n84   2017-05-05    pep  113.0400   38.738500    buy  entry  FILLED\n83   2017-05-05     ko   44.2884  100.000000    buy   exit  FILLED\n...         ...    ...       ...         ...    ...    ...     ...\n1310 2022-03-21     ko   61.5060  100.000000    buy   exit  FILLED\n1312 2022-03-22    pep  162.8400   37.417097    buy  entry  FILLED\n1312 2022-03-22     ko   60.9300  100.000000   sell  entry  FILLED\n1312 2022-03-23     ko   62.1486  100.000000    buy   exit  FILLED\n1312 2022-03-23    pep  159.5832   37.417097   sell   exit  FILLED\n\n[2716 rows x 7 columns]",
      "text/html": "<div>\n<style scoped>\n    .dataframe tbody tr th:only-of-type {\n        vertical-align: middle;\n    }\n\n    .dataframe tbody tr th {\n        vertical-align: top;\n    }\n\n    .dataframe thead th {\n        text-align: right;\n    }\n</style>\n<table border=\"1\" class=\"dataframe\">\n  <thead>\n    <tr style=\"text-align: right;\">\n      <th></th>\n      <th>date</th>\n      <th>ticker</th>\n      <th>price</th>\n      <th>quantity</th>\n      <th>action</th>\n      <th>trip</th>\n      <th>status</th>\n    </tr>\n  </thead>\n  <tbody>\n    <tr>\n      <th>83</th>\n      <td>2017-05-04</td>\n      <td>pep</td>\n      <td>112.1700</td>\n      <td>38.709102</td>\n      <td>buy</td>\n      <td>entry</td>\n      <td>FILLED</td>\n    </tr>\n    <tr>\n      <th>83</th>\n      <td>2017-05-04</td>\n      <td>ko</td>\n      <td>43.4200</td>\n      <td>100.000000</td>\n      <td>sell</td>\n      <td>entry</td>\n      <td>FILLED</td>\n    </tr>\n    <tr>\n      <th>84</th>\n      <td>2017-05-05</td>\n      <td>ko</td>\n      <td>43.7900</td>\n      <td>100.000000</td>\n      <td>sell</td>\n      <td>entry</td>\n      <td>FILLED</td>\n    </tr>\n    <tr>\n      <th>84</th>\n      <td>2017-05-05</td>\n      <td>pep</td>\n      <td>113.0400</td>\n      <td>38.738500</td>\n      <td>buy</td>\n      <td>entry</td>\n      <td>FILLED</td>\n    </tr>\n    <tr>\n      <th>83</th>\n      <td>2017-05-05</td>\n      <td>ko</td>\n      <td>44.2884</td>\n      <td>100.000000</td>\n      <td>buy</td>\n      <td>exit</td>\n      <td>FILLED</td>\n    </tr>\n    <tr>\n      <th>...</th>\n      <td>...</td>\n      <td>...</td>\n      <td>...</td>\n      <td>...</td>\n      <td>...</td>\n      <td>...</td>\n      <td>...</td>\n    </tr>\n    <tr>\n      <th>1310</th>\n      <td>2022-03-21</td>\n      <td>ko</td>\n      <td>61.5060</td>\n      <td>100.000000</td>\n      <td>buy</td>\n      <td>exit</td>\n      <td>FILLED</td>\n    </tr>\n    <tr>\n      <th>1312</th>\n      <td>2022-03-22</td>\n      <td>pep</td>\n      <td>162.8400</td>\n      <td>37.417097</td>\n      <td>buy</td>\n      <td>entry</td>\n      <td>FILLED</td>\n    </tr>\n    <tr>\n      <th>1312</th>\n      <td>2022-03-22</td>\n      <td>ko</td>\n      <td>60.9300</td>\n      <td>100.000000</td>\n      <td>sell</td>\n      <td>entry</td>\n      <td>FILLED</td>\n    </tr>\n    <tr>\n      <th>1312</th>\n      <td>2022-03-23</td>\n      <td>ko</td>\n      <td>62.1486</td>\n      <td>100.000000</td>\n      <td>buy</td>\n      <td>exit</td>\n      <td>FILLED</td>\n    </tr>\n    <tr>\n      <th>1312</th>\n      <td>2022-03-23</td>\n      <td>pep</td>\n      <td>159.5832</td>\n      <td>37.417097</td>\n      <td>sell</td>\n      <td>exit</td>\n      <td>FILLED</td>\n    </tr>\n  </tbody>\n</table>\n<p>2716 rows × 7 columns</p>\n</div>"
     },
     "execution_count": 40,
     "metadata": {},
     "output_type": "execute_result"
    }
   ],
   "source": [
    "exit_result"
   ],
   "metadata": {
    "collapsed": false,
    "pycharm": {
     "name": "#%%\n"
    }
   }
  },
  {
   "cell_type": "code",
   "execution_count": 41,
   "outputs": [
    {
     "data": {
      "text/plain": "           date ticker     price    quantity action  trip   status\n283  2018-02-21     ko   45.6450  100.000000    buy  exit  TIMEOUT\n283  2018-02-21    pep  108.7408   40.329849   sell  exit  TIMEOUT\n313  2018-04-05     ko   44.0028  100.000000    buy  exit  TIMEOUT\n313  2018-04-05    pep  105.6244   40.025979   sell  exit  TIMEOUT\n332  2018-05-02     ko   43.8192  100.000000    buy  exit  TIMEOUT\n...         ...    ...       ...         ...    ...   ...      ...\n1137 2021-07-14     ko   53.8510  100.000000   sell  exit  TIMEOUT\n1197 2021-10-07     ko   51.7146  100.000000   sell  exit  TIMEOUT\n1197 2021-10-07    pep  153.8568   34.984089    buy  exit  TIMEOUT\n1238 2021-12-06     ko   52.2634  100.000000   sell  exit  TIMEOUT\n1238 2021-12-06    pep  164.6994   33.027807    buy  exit  TIMEOUT\n\n[72 rows x 7 columns]",
      "text/html": "<div>\n<style scoped>\n    .dataframe tbody tr th:only-of-type {\n        vertical-align: middle;\n    }\n\n    .dataframe tbody tr th {\n        vertical-align: top;\n    }\n\n    .dataframe thead th {\n        text-align: right;\n    }\n</style>\n<table border=\"1\" class=\"dataframe\">\n  <thead>\n    <tr style=\"text-align: right;\">\n      <th></th>\n      <th>date</th>\n      <th>ticker</th>\n      <th>price</th>\n      <th>quantity</th>\n      <th>action</th>\n      <th>trip</th>\n      <th>status</th>\n    </tr>\n  </thead>\n  <tbody>\n    <tr>\n      <th>283</th>\n      <td>2018-02-21</td>\n      <td>ko</td>\n      <td>45.6450</td>\n      <td>100.000000</td>\n      <td>buy</td>\n      <td>exit</td>\n      <td>TIMEOUT</td>\n    </tr>\n    <tr>\n      <th>283</th>\n      <td>2018-02-21</td>\n      <td>pep</td>\n      <td>108.7408</td>\n      <td>40.329849</td>\n      <td>sell</td>\n      <td>exit</td>\n      <td>TIMEOUT</td>\n    </tr>\n    <tr>\n      <th>313</th>\n      <td>2018-04-05</td>\n      <td>ko</td>\n      <td>44.0028</td>\n      <td>100.000000</td>\n      <td>buy</td>\n      <td>exit</td>\n      <td>TIMEOUT</td>\n    </tr>\n    <tr>\n      <th>313</th>\n      <td>2018-04-05</td>\n      <td>pep</td>\n      <td>105.6244</td>\n      <td>40.025979</td>\n      <td>sell</td>\n      <td>exit</td>\n      <td>TIMEOUT</td>\n    </tr>\n    <tr>\n      <th>332</th>\n      <td>2018-05-02</td>\n      <td>ko</td>\n      <td>43.8192</td>\n      <td>100.000000</td>\n      <td>buy</td>\n      <td>exit</td>\n      <td>TIMEOUT</td>\n    </tr>\n    <tr>\n      <th>...</th>\n      <td>...</td>\n      <td>...</td>\n      <td>...</td>\n      <td>...</td>\n      <td>...</td>\n      <td>...</td>\n      <td>...</td>\n    </tr>\n    <tr>\n      <th>1137</th>\n      <td>2021-07-14</td>\n      <td>ko</td>\n      <td>53.8510</td>\n      <td>100.000000</td>\n      <td>sell</td>\n      <td>exit</td>\n      <td>TIMEOUT</td>\n    </tr>\n    <tr>\n      <th>1197</th>\n      <td>2021-10-07</td>\n      <td>ko</td>\n      <td>51.7146</td>\n      <td>100.000000</td>\n      <td>sell</td>\n      <td>exit</td>\n      <td>TIMEOUT</td>\n    </tr>\n    <tr>\n      <th>1197</th>\n      <td>2021-10-07</td>\n      <td>pep</td>\n      <td>153.8568</td>\n      <td>34.984089</td>\n      <td>buy</td>\n      <td>exit</td>\n      <td>TIMEOUT</td>\n    </tr>\n    <tr>\n      <th>1238</th>\n      <td>2021-12-06</td>\n      <td>ko</td>\n      <td>52.2634</td>\n      <td>100.000000</td>\n      <td>sell</td>\n      <td>exit</td>\n      <td>TIMEOUT</td>\n    </tr>\n    <tr>\n      <th>1238</th>\n      <td>2021-12-06</td>\n      <td>pep</td>\n      <td>164.6994</td>\n      <td>33.027807</td>\n      <td>buy</td>\n      <td>exit</td>\n      <td>TIMEOUT</td>\n    </tr>\n  </tbody>\n</table>\n<p>72 rows × 7 columns</p>\n</div>"
     },
     "execution_count": 41,
     "metadata": {},
     "output_type": "execute_result"
    }
   ],
   "source": [
    "exit_order_mkt = exit_result.copy(deep=True)\n",
    "\n",
    "# select rows where status is TIMEOUT or STOPLOSS\n",
    "exit_order_mkt = exit_order_mkt.loc[exit_order_mkt['status'].isin(['STOPLOSS', 'TIMEOUT'])]\n",
    "\n",
    "exit_order_mkt"
   ],
   "metadata": {
    "collapsed": false,
    "pycharm": {
     "name": "#%%\n"
    }
   }
  },
  {
   "cell_type": "code",
   "execution_count": 42,
   "outputs": [
    {
     "name": "stdout",
     "output_type": "stream",
     "text": [
      "283\n",
      "1238\n"
     ]
    }
   ],
   "source": [
    "first_index = exit_order_mkt.first_valid_index()\n",
    "last_index = exit_order_mkt.index[-1]\n",
    "\n",
    "print(first_index)\n",
    "print(last_index)"
   ],
   "metadata": {
    "collapsed": false,
    "pycharm": {
     "name": "#%%\n"
    }
   }
  },
  {
   "cell_type": "code",
   "execution_count": 43,
   "outputs": [],
   "source": [
    "exit_order_mkt['price_mkt'] = ''\n",
    "exit_order_mkt['status_mkt'] = 'FILLED'"
   ],
   "metadata": {
    "collapsed": false,
    "pycharm": {
     "name": "#%%\n"
    }
   }
  },
  {
   "cell_type": "code",
   "execution_count": 44,
   "outputs": [],
   "source": [
    "for i in range(first_index, last_index + 1):\n",
    "    if i in exit_order_mkt.index:\n",
    "        if exit_order_mkt['ticker'][i].values[0] == 'ko':\n",
    "            exit_order_mkt['price_mkt'][i].values[0] = csv_df['ko_Close'][i + 2]\n",
    "            exit_order_mkt['price_mkt'][i].values[1] = csv_df['pep_Close'][i + 2]\n",
    "        else:\n",
    "            exit_order_mkt['price_mkt'][i].values[0] = csv_df['pep_Close'][i + 2]\n",
    "            exit_order_mkt['price_mkt'][i].values[1] = csv_df['ko_Close'][i + 2]\n",
    "    else:\n",
    "        continue"
   ],
   "metadata": {
    "collapsed": false,
    "pycharm": {
     "name": "#%%\n"
    }
   }
  },
  {
   "cell_type": "code",
   "execution_count": 45,
   "outputs": [
    {
     "data": {
      "text/plain": "           date ticker     price    quantity action  trip   status price_mkt  \\\n283  2018-02-21     ko   45.6450  100.000000    buy  exit  TIMEOUT     43.34   \n283  2018-02-21    pep  108.7408   40.329849   sell  exit  TIMEOUT     108.0   \n313  2018-04-05     ko   44.0028  100.000000    buy  exit  TIMEOUT      44.4   \n313  2018-04-05    pep  105.6244   40.025979   sell  exit  TIMEOUT    110.57   \n332  2018-05-02     ko   43.8192  100.000000    buy  exit  TIMEOUT     42.06   \n...         ...    ...       ...         ...    ...   ...      ...       ...   \n1137 2021-07-14     ko   53.8510  100.000000   sell  exit  TIMEOUT     56.26   \n1197 2021-10-07     ko   51.7146  100.000000   sell  exit  TIMEOUT     53.88   \n1197 2021-10-07    pep  153.8568   34.984089    buy  exit  TIMEOUT    156.39   \n1238 2021-12-06     ko   52.2634  100.000000   sell  exit  TIMEOUT     54.91   \n1238 2021-12-06    pep  164.6994   33.027807    buy  exit  TIMEOUT    166.42   \n\n     status_mkt  \n283      FILLED  \n283      FILLED  \n313      FILLED  \n313      FILLED  \n332      FILLED  \n...         ...  \n1137     FILLED  \n1197     FILLED  \n1197     FILLED  \n1238     FILLED  \n1238     FILLED  \n\n[72 rows x 9 columns]",
      "text/html": "<div>\n<style scoped>\n    .dataframe tbody tr th:only-of-type {\n        vertical-align: middle;\n    }\n\n    .dataframe tbody tr th {\n        vertical-align: top;\n    }\n\n    .dataframe thead th {\n        text-align: right;\n    }\n</style>\n<table border=\"1\" class=\"dataframe\">\n  <thead>\n    <tr style=\"text-align: right;\">\n      <th></th>\n      <th>date</th>\n      <th>ticker</th>\n      <th>price</th>\n      <th>quantity</th>\n      <th>action</th>\n      <th>trip</th>\n      <th>status</th>\n      <th>price_mkt</th>\n      <th>status_mkt</th>\n    </tr>\n  </thead>\n  <tbody>\n    <tr>\n      <th>283</th>\n      <td>2018-02-21</td>\n      <td>ko</td>\n      <td>45.6450</td>\n      <td>100.000000</td>\n      <td>buy</td>\n      <td>exit</td>\n      <td>TIMEOUT</td>\n      <td>43.34</td>\n      <td>FILLED</td>\n    </tr>\n    <tr>\n      <th>283</th>\n      <td>2018-02-21</td>\n      <td>pep</td>\n      <td>108.7408</td>\n      <td>40.329849</td>\n      <td>sell</td>\n      <td>exit</td>\n      <td>TIMEOUT</td>\n      <td>108.0</td>\n      <td>FILLED</td>\n    </tr>\n    <tr>\n      <th>313</th>\n      <td>2018-04-05</td>\n      <td>ko</td>\n      <td>44.0028</td>\n      <td>100.000000</td>\n      <td>buy</td>\n      <td>exit</td>\n      <td>TIMEOUT</td>\n      <td>44.4</td>\n      <td>FILLED</td>\n    </tr>\n    <tr>\n      <th>313</th>\n      <td>2018-04-05</td>\n      <td>pep</td>\n      <td>105.6244</td>\n      <td>40.025979</td>\n      <td>sell</td>\n      <td>exit</td>\n      <td>TIMEOUT</td>\n      <td>110.57</td>\n      <td>FILLED</td>\n    </tr>\n    <tr>\n      <th>332</th>\n      <td>2018-05-02</td>\n      <td>ko</td>\n      <td>43.8192</td>\n      <td>100.000000</td>\n      <td>buy</td>\n      <td>exit</td>\n      <td>TIMEOUT</td>\n      <td>42.06</td>\n      <td>FILLED</td>\n    </tr>\n    <tr>\n      <th>...</th>\n      <td>...</td>\n      <td>...</td>\n      <td>...</td>\n      <td>...</td>\n      <td>...</td>\n      <td>...</td>\n      <td>...</td>\n      <td>...</td>\n      <td>...</td>\n    </tr>\n    <tr>\n      <th>1137</th>\n      <td>2021-07-14</td>\n      <td>ko</td>\n      <td>53.8510</td>\n      <td>100.000000</td>\n      <td>sell</td>\n      <td>exit</td>\n      <td>TIMEOUT</td>\n      <td>56.26</td>\n      <td>FILLED</td>\n    </tr>\n    <tr>\n      <th>1197</th>\n      <td>2021-10-07</td>\n      <td>ko</td>\n      <td>51.7146</td>\n      <td>100.000000</td>\n      <td>sell</td>\n      <td>exit</td>\n      <td>TIMEOUT</td>\n      <td>53.88</td>\n      <td>FILLED</td>\n    </tr>\n    <tr>\n      <th>1197</th>\n      <td>2021-10-07</td>\n      <td>pep</td>\n      <td>153.8568</td>\n      <td>34.984089</td>\n      <td>buy</td>\n      <td>exit</td>\n      <td>TIMEOUT</td>\n      <td>156.39</td>\n      <td>FILLED</td>\n    </tr>\n    <tr>\n      <th>1238</th>\n      <td>2021-12-06</td>\n      <td>ko</td>\n      <td>52.2634</td>\n      <td>100.000000</td>\n      <td>sell</td>\n      <td>exit</td>\n      <td>TIMEOUT</td>\n      <td>54.91</td>\n      <td>FILLED</td>\n    </tr>\n    <tr>\n      <th>1238</th>\n      <td>2021-12-06</td>\n      <td>pep</td>\n      <td>164.6994</td>\n      <td>33.027807</td>\n      <td>buy</td>\n      <td>exit</td>\n      <td>TIMEOUT</td>\n      <td>166.42</td>\n      <td>FILLED</td>\n    </tr>\n  </tbody>\n</table>\n<p>72 rows × 9 columns</p>\n</div>"
     },
     "execution_count": 45,
     "metadata": {},
     "output_type": "execute_result"
    }
   ],
   "source": [
    "exit_order_mkt"
   ],
   "metadata": {
    "collapsed": false,
    "pycharm": {
     "name": "#%%\n"
    }
   }
  },
  {
   "cell_type": "code",
   "execution_count": 46,
   "outputs": [
    {
     "data": {
      "text/plain": "           date ticker   price    quantity action  trip  status\n283  2018-02-21     ko   43.34  100.000000    buy  exit  FILLED\n283  2018-02-21    pep   108.0   40.329849   sell  exit  FILLED\n313  2018-04-05     ko    44.4  100.000000    buy  exit  FILLED\n313  2018-04-05    pep  110.57   40.025979   sell  exit  FILLED\n332  2018-05-02     ko   42.06  100.000000    buy  exit  FILLED\n...         ...    ...     ...         ...    ...   ...     ...\n1137 2021-07-14     ko   56.26  100.000000   sell  exit  FILLED\n1197 2021-10-07     ko   53.88  100.000000   sell  exit  FILLED\n1197 2021-10-07    pep  156.39   34.984089    buy  exit  FILLED\n1238 2021-12-06     ko   54.91  100.000000   sell  exit  FILLED\n1238 2021-12-06    pep  166.42   33.027807    buy  exit  FILLED\n\n[72 rows x 7 columns]",
      "text/html": "<div>\n<style scoped>\n    .dataframe tbody tr th:only-of-type {\n        vertical-align: middle;\n    }\n\n    .dataframe tbody tr th {\n        vertical-align: top;\n    }\n\n    .dataframe thead th {\n        text-align: right;\n    }\n</style>\n<table border=\"1\" class=\"dataframe\">\n  <thead>\n    <tr style=\"text-align: right;\">\n      <th></th>\n      <th>date</th>\n      <th>ticker</th>\n      <th>price</th>\n      <th>quantity</th>\n      <th>action</th>\n      <th>trip</th>\n      <th>status</th>\n    </tr>\n  </thead>\n  <tbody>\n    <tr>\n      <th>283</th>\n      <td>2018-02-21</td>\n      <td>ko</td>\n      <td>43.34</td>\n      <td>100.000000</td>\n      <td>buy</td>\n      <td>exit</td>\n      <td>FILLED</td>\n    </tr>\n    <tr>\n      <th>283</th>\n      <td>2018-02-21</td>\n      <td>pep</td>\n      <td>108.0</td>\n      <td>40.329849</td>\n      <td>sell</td>\n      <td>exit</td>\n      <td>FILLED</td>\n    </tr>\n    <tr>\n      <th>313</th>\n      <td>2018-04-05</td>\n      <td>ko</td>\n      <td>44.4</td>\n      <td>100.000000</td>\n      <td>buy</td>\n      <td>exit</td>\n      <td>FILLED</td>\n    </tr>\n    <tr>\n      <th>313</th>\n      <td>2018-04-05</td>\n      <td>pep</td>\n      <td>110.57</td>\n      <td>40.025979</td>\n      <td>sell</td>\n      <td>exit</td>\n      <td>FILLED</td>\n    </tr>\n    <tr>\n      <th>332</th>\n      <td>2018-05-02</td>\n      <td>ko</td>\n      <td>42.06</td>\n      <td>100.000000</td>\n      <td>buy</td>\n      <td>exit</td>\n      <td>FILLED</td>\n    </tr>\n    <tr>\n      <th>...</th>\n      <td>...</td>\n      <td>...</td>\n      <td>...</td>\n      <td>...</td>\n      <td>...</td>\n      <td>...</td>\n      <td>...</td>\n    </tr>\n    <tr>\n      <th>1137</th>\n      <td>2021-07-14</td>\n      <td>ko</td>\n      <td>56.26</td>\n      <td>100.000000</td>\n      <td>sell</td>\n      <td>exit</td>\n      <td>FILLED</td>\n    </tr>\n    <tr>\n      <th>1197</th>\n      <td>2021-10-07</td>\n      <td>ko</td>\n      <td>53.88</td>\n      <td>100.000000</td>\n      <td>sell</td>\n      <td>exit</td>\n      <td>FILLED</td>\n    </tr>\n    <tr>\n      <th>1197</th>\n      <td>2021-10-07</td>\n      <td>pep</td>\n      <td>156.39</td>\n      <td>34.984089</td>\n      <td>buy</td>\n      <td>exit</td>\n      <td>FILLED</td>\n    </tr>\n    <tr>\n      <th>1238</th>\n      <td>2021-12-06</td>\n      <td>ko</td>\n      <td>54.91</td>\n      <td>100.000000</td>\n      <td>sell</td>\n      <td>exit</td>\n      <td>FILLED</td>\n    </tr>\n    <tr>\n      <th>1238</th>\n      <td>2021-12-06</td>\n      <td>pep</td>\n      <td>166.42</td>\n      <td>33.027807</td>\n      <td>buy</td>\n      <td>exit</td>\n      <td>FILLED</td>\n    </tr>\n  </tbody>\n</table>\n<p>72 rows × 7 columns</p>\n</div>"
     },
     "execution_count": 46,
     "metadata": {},
     "output_type": "execute_result"
    }
   ],
   "source": [
    "# format the dataframe\n",
    "del exit_order_mkt['price'], exit_order_mkt['status']\n",
    "order2 = ['date', 'ticker', 'price_mkt', 'quantity', 'action', 'trip', 'status_mkt']\n",
    "exit_order_mkt = exit_order_mkt[order2]\n",
    "exit_order_mkt.columns = ['date', 'ticker', 'price', 'quantity', 'action', 'trip', 'status']\n",
    "exit_order_mkt['date'] = pd.to_datetime(exit_order_mkt['date'])\n",
    "\n",
    "exit_order_mkt"
   ],
   "metadata": {
    "collapsed": false,
    "pycharm": {
     "name": "#%%\n"
    }
   }
  },
  {
   "cell_type": "code",
   "execution_count": 47,
   "outputs": [
    {
     "data": {
      "text/plain": "           date ticker     price    quantity action   trip  status\n83   2017-05-04    pep    112.17   38.709102    buy  entry  FILLED\n83   2017-05-04     ko     43.42  100.000000   sell  entry  FILLED\n84   2017-05-05     ko     43.79  100.000000   sell  entry  FILLED\n84   2017-05-05    pep    113.04   38.738500    buy  entry  FILLED\n83   2017-05-05     ko   44.2884  100.000000    buy   exit  FILLED\n...         ...    ...       ...         ...    ...    ...     ...\n1310 2022-03-21     ko    61.506  100.000000    buy   exit  FILLED\n1312 2022-03-22    pep    162.84   37.417097    buy  entry  FILLED\n1312 2022-03-22     ko     60.93  100.000000   sell  entry  FILLED\n1312 2022-03-23    pep  159.5832   37.417097   sell   exit  FILLED\n1312 2022-03-23     ko   62.1486  100.000000    buy   exit  FILLED\n\n[2788 rows x 7 columns]",
      "text/html": "<div>\n<style scoped>\n    .dataframe tbody tr th:only-of-type {\n        vertical-align: middle;\n    }\n\n    .dataframe tbody tr th {\n        vertical-align: top;\n    }\n\n    .dataframe thead th {\n        text-align: right;\n    }\n</style>\n<table border=\"1\" class=\"dataframe\">\n  <thead>\n    <tr style=\"text-align: right;\">\n      <th></th>\n      <th>date</th>\n      <th>ticker</th>\n      <th>price</th>\n      <th>quantity</th>\n      <th>action</th>\n      <th>trip</th>\n      <th>status</th>\n    </tr>\n  </thead>\n  <tbody>\n    <tr>\n      <th>83</th>\n      <td>2017-05-04</td>\n      <td>pep</td>\n      <td>112.17</td>\n      <td>38.709102</td>\n      <td>buy</td>\n      <td>entry</td>\n      <td>FILLED</td>\n    </tr>\n    <tr>\n      <th>83</th>\n      <td>2017-05-04</td>\n      <td>ko</td>\n      <td>43.42</td>\n      <td>100.000000</td>\n      <td>sell</td>\n      <td>entry</td>\n      <td>FILLED</td>\n    </tr>\n    <tr>\n      <th>84</th>\n      <td>2017-05-05</td>\n      <td>ko</td>\n      <td>43.79</td>\n      <td>100.000000</td>\n      <td>sell</td>\n      <td>entry</td>\n      <td>FILLED</td>\n    </tr>\n    <tr>\n      <th>84</th>\n      <td>2017-05-05</td>\n      <td>pep</td>\n      <td>113.04</td>\n      <td>38.738500</td>\n      <td>buy</td>\n      <td>entry</td>\n      <td>FILLED</td>\n    </tr>\n    <tr>\n      <th>83</th>\n      <td>2017-05-05</td>\n      <td>ko</td>\n      <td>44.2884</td>\n      <td>100.000000</td>\n      <td>buy</td>\n      <td>exit</td>\n      <td>FILLED</td>\n    </tr>\n    <tr>\n      <th>...</th>\n      <td>...</td>\n      <td>...</td>\n      <td>...</td>\n      <td>...</td>\n      <td>...</td>\n      <td>...</td>\n      <td>...</td>\n    </tr>\n    <tr>\n      <th>1310</th>\n      <td>2022-03-21</td>\n      <td>ko</td>\n      <td>61.506</td>\n      <td>100.000000</td>\n      <td>buy</td>\n      <td>exit</td>\n      <td>FILLED</td>\n    </tr>\n    <tr>\n      <th>1312</th>\n      <td>2022-03-22</td>\n      <td>pep</td>\n      <td>162.84</td>\n      <td>37.417097</td>\n      <td>buy</td>\n      <td>entry</td>\n      <td>FILLED</td>\n    </tr>\n    <tr>\n      <th>1312</th>\n      <td>2022-03-22</td>\n      <td>ko</td>\n      <td>60.93</td>\n      <td>100.000000</td>\n      <td>sell</td>\n      <td>entry</td>\n      <td>FILLED</td>\n    </tr>\n    <tr>\n      <th>1312</th>\n      <td>2022-03-23</td>\n      <td>pep</td>\n      <td>159.5832</td>\n      <td>37.417097</td>\n      <td>sell</td>\n      <td>exit</td>\n      <td>FILLED</td>\n    </tr>\n    <tr>\n      <th>1312</th>\n      <td>2022-03-23</td>\n      <td>ko</td>\n      <td>62.1486</td>\n      <td>100.000000</td>\n      <td>buy</td>\n      <td>exit</td>\n      <td>FILLED</td>\n    </tr>\n  </tbody>\n</table>\n<p>2788 rows × 7 columns</p>\n</div>"
     },
     "execution_count": 47,
     "metadata": {},
     "output_type": "execute_result"
    }
   ],
   "source": [
    "frames = [exit_result, exit_order_mkt]\n",
    "result = pd.concat(frames)\n",
    "result['date'] = pd.to_datetime(result['date'])\n",
    "result.sort_values(by='date', inplace=True, ascending=True)\n",
    "\n",
    "result"
   ],
   "metadata": {
    "collapsed": false,
    "pycharm": {
     "name": "#%%\n"
    }
   }
  },
  {
   "cell_type": "code",
   "execution_count": null,
   "outputs": [],
   "source": [],
   "metadata": {
    "collapsed": false,
    "pycharm": {
     "name": "#%%\n"
    }
   }
  }
 ],
 "metadata": {
  "kernelspec": {
   "display_name": "Python 3",
   "language": "python",
   "name": "python3"
  },
  "language_info": {
   "codemirror_mode": {
    "name": "ipython",
    "version": 2
   },
   "file_extension": ".py",
   "mimetype": "text/x-python",
   "name": "python",
   "nbconvert_exporter": "python",
   "pygments_lexer": "ipython2",
   "version": "2.7.6"
  }
 },
 "nbformat": 4,
 "nbformat_minor": 0
}